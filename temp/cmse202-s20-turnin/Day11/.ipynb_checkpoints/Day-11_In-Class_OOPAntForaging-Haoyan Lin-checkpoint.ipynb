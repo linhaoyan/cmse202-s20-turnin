{
 "cells": [
  {
   "cell_type": "markdown",
   "metadata": {},
   "source": [
    "### <p style=\"text-align: right;\"> &#9989; **Haoyan Lin** </p>\n",
    "#### <p style=\"text-align: right;\"> &#9989; Larissa Ford, Thanh lai, Connor Kromp, Dongdong Li</p>"
   ]
  },
  {
   "cell_type": "markdown",
   "metadata": {},
   "source": [
    "# Day 11 In-Class Assignment: Object Oriented Programming (OOP)\n",
    "\n",
    "<img src=\"https://upload.wikimedia.org/wikipedia/commons/thumb/3/34/Safari_ants.jpg/440px-Safari_ants.jpg\" width=500> <p style=\"text-align: right;\">\n",
    "Image from https://en.wikipedia.org/wiki/Ant_colony_optimization_algorithms\n",
    "</p>\n",
    "\n",
    "1. **Scientific motivation** \n",
    "    - Animal behavior, Emergent behavior\n",
    "2. **Modeling tools** \n",
    "    - Preview of Agent Based Modeling\n",
    "3. **Programming concepts** \n",
    "    - Object Oriented programming\n",
    "    - Code Review\n",
    "4. **Python Programming Concepts** \n",
    "    - Loading external python files using import."
   ]
  },
  {
   "cell_type": "markdown",
   "metadata": {},
   "source": [
    "### Agenda for today's class\n",
    "\n",
    "</p>\n",
    "\n",
    "1. Review of Pre-class Assignment\n",
    "1. Problem Description\n",
    "1. Linear Programming\n",
    "1. Functional Programming\n",
    "1. Object Oriented Programming\n"
   ]
  },
  {
   "cell_type": "markdown",
   "metadata": {},
   "source": [
    "----\n",
    "# 1. Review of pre-class assignment\n",
    "\n",
    "Any questions about the pre-class assignment?\n",
    "\n",
    "* Object oriented programming: With your table, discuss what we mean by \"object\" and how this might be useful as a programming tool.\n",
    "\n",
    "&#9989; An object (OB-ject) is something that is a visible entity, something that can be perceived by the senses. \n",
    "\n",
    "* What is a \"class attribute\"?\n",
    "\n",
    "&#9989; A class attribute is a Python variable that belongs to a class rather than a particular object. It is shared between all the objects of this class \n",
    "\n",
    "* What is a \"class method\"? \n",
    "\n",
    "&#9989; A class method is a method which is bound to the class and not the object of the class. They have the access to the state of the class as it takes a class parameter that points to the class and not the object instance.\n",
    "\n",
    "* With your table, discuss the difference between a class and an \"instance\" of that same class. \n",
    "\n",
    "&#9989; At the class level, variables are referred to as class variables, whereas variables at the instance level are called instance variables.\n",
    "\n",
    "\n"
   ]
  },
  {
   "cell_type": "markdown",
   "metadata": {},
   "source": [
    "----\n",
    "# 2. Problem Description: Ant foraging\n",
    "\n",
    "Fairly complex behaviors can be simulated using simple rules.  This is sometimes called, emergent behavior.  We are going to look into ways of simulating ant forging behaviors using a set of the following simple rules.  The rules are evaluated in order and only one rule can be completed per iteration.\n",
    "\n",
    "1. If ant has food and is home, consume food.\n",
    "2. If ant has food, drop some pheromones and head home.\n",
    "3. If ant is at food, pick it up.\n",
    "3. If ant doesn't have food and smells pheromones, head in the smelliest direction.\n",
    "4. Move randomly.\n",
    "\n",
    "Ants then live in an environment with three properties; direction to home, smell (pheromones) and food.  The Pheromones \"dissolve\" as time goes by and the food goes away as ants pick it up. \n",
    "\n",
    "**&#9989;  Do This:** watch the following simulation of ants forging using this behavior.  \n",
    "\n",
    "**Note:** We are importing an external python script to run this simulation. To restart the simulation you will need to restart the jupyter kernel in the Kernel menu above."
   ]
  },
  {
   "cell_type": "code",
   "execution_count": 1,
   "metadata": {
    "scrolled": true
   },
   "outputs": [
    {
     "data": {
      "image/png": "[encoded data removed]",
      "text/plain": [
       "<Figure size 720x360 with 1 Axes>"
      ]
     },
     "metadata": {},
     "output_type": "display_data"
    },
    {
     "data": {
      "text/plain": [
       "<Figure size 720x360 with 0 Axes>"
      ]
     },
     "metadata": {},
     "output_type": "display_data"
    }
   ],
   "source": [
    "%matplotlib inline\n",
    "import ant_script"
   ]
  },
  {
   "cell_type": "markdown",
   "metadata": {},
   "source": [
    "In the above, the color of the background signifies the amount of food. Light yellow indicates lots of food and dark purple indicates a little. Black represents no food.   \n",
    "\n",
    "**&#9989;  Do This:** As a group, discuss how you would write your own simulation for this problem.  (**no peeking at the code!**)"
   ]
  },
  {
   "cell_type": "markdown",
   "metadata": {},
   "source": [
    "**Question:** What data would you need to keep track of the environment in this simulation?"
   ]
  },
  {
   "cell_type": "markdown",
   "metadata": {},
   "source": [
    "<font size=8 color=\"#009600\">&#9998;</font> Distinguishing the three cases by setting the color classification and relating them by the code."
   ]
  },
  {
   "cell_type": "markdown",
   "metadata": {},
   "source": [
    "**Question:** How would you structure your program to solve this problem?"
   ]
  },
  {
   "cell_type": "markdown",
   "metadata": {},
   "source": [
    "<font size=8 color=\"#009600\">&#9998;</font>Set ANT as an and. Use an “if statement” to assume three conditions and define one of each so that the ant can complete its instructions in a particular situation."
   ]
  },
  {
   "cell_type": "markdown",
   "metadata": {},
   "source": [
    "**Question:** What would some stub code or pseudocode look like for this program? **Make use of the whiteboards to write out pseudocode as appropriate**"
   ]
  },
  {
   "cell_type": "markdown",
   "metadata": {},
   "source": [
    "<font size=8 color=\"#009600\">&#9998;</font>  A stub may simulate the behavior of existing code (such as a procedure on a remote machine, such methods are often called mocks) or be a temporary substitute for yet-to-be-developed code. So, I should use stub code."
   ]
  },
  {
   "cell_type": "markdown",
   "metadata": {},
   "source": [
    "----\n",
    "# 3. Linear Programming\n",
    "\n",
    "Now lets do a \"code review\" of an implementation of this simulation using linear programming.  A \"code review\" is a common concept in programming where you analyze someone else's code to figure out what it is doing, identify problems and make improvements.  For now, lets just see what it is doing. "
   ]
  },
  {
   "cell_type": "markdown",
   "metadata": {},
   "source": [
    "**&#9989;  Do This:** Analyze the [ant_script.py](ant_script.py) file and answer the following questions:"
   ]
  },
  {
   "cell_type": "markdown",
   "metadata": {},
   "source": [
    "**Question:** How does this design compare with your design? What did you like?  What did you dislike?"
   ]
  },
  {
   "cell_type": "markdown",
   "metadata": {},
   "source": [
    "<font size=8 color=\"#009600\">&#9998;</font> This design use if statement like I mentioned. I like this \"if statement\" part."
   ]
  },
  {
   "cell_type": "markdown",
   "metadata": {},
   "source": [
    "**Question:** Was there anything in the design that was a surprise?"
   ]
  },
  {
   "cell_type": "markdown",
   "metadata": {},
   "source": [
    "<font size=8 color=\"#009600\">&#9998;</font> The for loop setted for over many 'if statement' can reach the destination, which suprises me during this part."
   ]
  },
  {
   "cell_type": "markdown",
   "metadata": {},
   "source": [
    "----\n",
    "# 4. Functional Programming\n",
    "\n",
    "Now consider the same basic simulation written as functions.  "
   ]
  },
  {
   "cell_type": "code",
   "execution_count": 2,
   "metadata": {
    "scrolled": true
   },
   "outputs": [
    {
     "data": {
      "image/png": "[encoded data removed]",
      "text/plain": [
       "<Figure size 720x360 with 1 Axes>"
      ]
     },
     "metadata": {},
     "output_type": "display_data"
    },
    {
     "data": {
      "text/plain": [
       "<Figure size 720x360 with 0 Axes>"
      ]
     },
     "metadata": {},
     "output_type": "display_data"
    }
   ],
   "source": [
    "%matplotlib inline\n",
    "import ant_function\n",
    "ant_function.run()"
   ]
  },
  {
   "cell_type": "markdown",
   "metadata": {},
   "source": [
    "**&#9989;  Do This:** Individually analyze the [ant_function.py](ant_function.py) file and answer the following questions:"
   ]
  },
  {
   "cell_type": "markdown",
   "metadata": {},
   "source": [
    "**Question:** How is the ```ant_function.py``` file different from the ```ant_script.py``` version?"
   ]
  },
  {
   "cell_type": "markdown",
   "metadata": {},
   "source": [
    "<font size=8 color=\"#009600\">&#9998;</font> ant_function define many function for the applicaton of \"if statement\" and saparate them, however, the ant_script use the for loop to combine many \"if statement\"."
   ]
  },
  {
   "cell_type": "markdown",
   "metadata": {},
   "source": [
    "**Question:** What do you find to be better about the ```ant_script.py``` implementation of the simulation?"
   ]
  },
  {
   "cell_type": "markdown",
   "metadata": {},
   "source": [
    "<font size=8 color=\"#009600\">&#9998;</font> ant_script does not need to reset display and prevent overlapping as well as layered plots.\n"
   ]
  },
  {
   "cell_type": "markdown",
   "metadata": {},
   "source": [
    "**Question:** What do you find to be better about the ```ant_function.py``` implementation of the simulation?"
   ]
  },
  {
   "cell_type": "markdown",
   "metadata": {},
   "source": [
    "<font size=8 color=\"#009600\">&#9998;</font> Defining function is easier to set \"if statement\" clearly."
   ]
  },
  {
   "cell_type": "markdown",
   "metadata": {},
   "source": [
    "----\n",
    "# 5. Object oriented programming\n",
    "\n",
    "Now lets think about how we could implement the ant forging simulation as a object oriented program.  "
   ]
  },
  {
   "cell_type": "markdown",
   "metadata": {},
   "source": [
    "**&#9989;  Do This:** As a group/class discuss how you would break down this simulation into logical objects (Object oriented programming)."
   ]
  },
  {
   "cell_type": "markdown",
   "metadata": {},
   "source": [
    "**Question:** What objects could you implement?"
   ]
  },
  {
   "cell_type": "markdown",
   "metadata": {},
   "source": [
    "<font size=8 color=\"#009600\">&#9998;</font> I think Software objects are modeled after real-world objects in that they too have state and behavior. A software object maintains its state in one or more variables . A variable is an item of data named by an identifier. A software object implements its behavior with methods. It will be suitable to set the behaviors of the ant."
   ]
  },
  {
   "cell_type": "markdown",
   "metadata": {},
   "source": [
    "**&#9989;  Do This:** Individually run and analyze the [ant_class.py](ant_class.py) file and answer the following questions:"
   ]
  },
  {
   "cell_type": "code",
   "execution_count": 3,
   "metadata": {
    "scrolled": true
   },
   "outputs": [
    {
     "data": {
      "image/png": "[encoded data removed]",
      "text/plain": [
       "<Figure size 720x360 with 1 Axes>"
      ]
     },
     "metadata": {},
     "output_type": "display_data"
    },
    {
     "data": {
      "text/plain": [
       "<Figure size 720x360 with 0 Axes>"
      ]
     },
     "metadata": {},
     "output_type": "display_data"
    }
   ],
   "source": [
    "%matplotlib inline\n",
    "import ant_class\n",
    "ant_class.run()"
   ]
  },
  {
   "cell_type": "markdown",
   "metadata": {},
   "source": [
    "**Question:** What are the disadvantages of using a class based approach?"
   ]
  },
  {
   "cell_type": "markdown",
   "metadata": {},
   "source": [
    "<font size=8 color=\"#009600\">&#9998;</font>  Using a class based approach can take time to get used to it. It is complex to create programs based on interaction of objects. But maybe for me."
   ]
  },
  {
   "cell_type": "markdown",
   "metadata": {},
   "source": [
    "**Question:** What are the advantages of using a class based approach?"
   ]
  },
  {
   "cell_type": "markdown",
   "metadata": {},
   "source": [
    "<font size=8 color=\"#009600\">&#9998;</font> using a class based approach are associated with behaviors. The model is based on objects, rather than on data and processing."
   ]
  },
  {
   "cell_type": "markdown",
   "metadata": {},
   "source": [
    "**&#9989;  Do This:** Using a **text editor** of your choosing, edit the ```ant_class.py``` file so that it visualizes the pheromones instead of the food. You should:\n",
    "\n",
    "* Use a different colormap for the pheromone visualization.\n",
    "* Add a colorbar to the visualize and label it \"pheromones.\"\n",
    "* Use a fixed colormap range so that it doesn't keep changing as the animation runs.\n",
    "\n",
    "**Important note**: Since your jupyter notebook has already imported `ant_class`, you can't just import the file again to incorporate your changes because Python doesn't like to import a module twice. You actually need to `reload` the class to get it to use your new version. The following cell takes care of this for you.\n",
    "\n",
    "**Make sure you understand how it works and then run your new version of the `ant_class.py` file.**"
   ]
  },
  {
   "cell_type": "code",
   "execution_count": 4,
   "metadata": {},
   "outputs": [
    {
     "data": {
      "image/png": "[encoded data removed]",
      "text/plain": [
       "<Figure size 720x360 with 1 Axes>"
      ]
     },
     "metadata": {},
     "output_type": "display_data"
    },
    {
     "data": {
      "text/plain": [
       "<Figure size 720x360 with 0 Axes>"
      ]
     },
     "metadata": {},
     "output_type": "display_data"
    }
   ],
   "source": [
    "# Use the importlib module to access the \"reload()\" function to make sure changes to ant_class.py are used\n",
    "import importlib\n",
    "importlib.reload(ant_class)\n",
    "ant_class.run()"
   ]
  },
  {
   "cell_type": "markdown",
   "metadata": {},
   "source": [
    "**Question**: Now that you've had a chance to review the code and modify it to visualizes the pheromones left by the ants. Can you find anything about the provided solution to the ant foraging model that you would change? Do you feel like the rules are implemented correctly? Do you feel like any of the rules should be change? Things you might want to think about:\n",
    "\n",
    "* What happens if an ant already has food but ends up in a location with food?\n",
    "* How are the ants detecting the pheromones around them? What sort of neighborhood are they searching in?\n",
    "\n",
    "Once you've had a chance to think about more ways that you might want to change the `ant_class.py` file -- make those changes! Once you make your changes and re-run the simulations.\n",
    "\n",
    "Record what you changed in the cell below."
   ]
  },
  {
   "cell_type": "markdown",
   "metadata": {},
   "source": [
    "*List your changes to the code here*"
   ]
  },
  {
   "cell_type": "markdown",
   "metadata": {},
   "source": [
    "----"
   ]
  },
  {
   "cell_type": "markdown",
   "metadata": {},
   "source": [
    "-----\n",
    "### Congratulations, we're done!\n",
    "\n",
    "Now, you just need to submit this assignment by uploading it to the course <a href=\"https://d2l.msu.edu/\">Desire2Learn</a> web page for today's dropbox (Don't forget to add your names in the first cell). **Make sure you upload your modified ant_class.py file as well!**\n"
   ]
  },
  {
   "cell_type": "markdown",
   "metadata": {},
   "source": [
    "&#169; Copyright 2018,  Michigan State University Board of Trustees"
   ]
  }
 ],
 "metadata": {
  "anaconda-cloud": {},
  "kernelspec": {
   "display_name": "Python 3",
   "language": "python",
   "name": "python3"
  },
  "language_info": {
   "codemirror_mode": {
    "name": "ipython",
    "version": 3
   },
   "file_extension": ".py",
   "mimetype": "text/x-python",
   "name": "python",
   "nbconvert_exporter": "python",
   "pygments_lexer": "ipython3",
   "version": "3.7.3"
  }
 },
 "nbformat": 4,
 "nbformat_minor": 4
}
