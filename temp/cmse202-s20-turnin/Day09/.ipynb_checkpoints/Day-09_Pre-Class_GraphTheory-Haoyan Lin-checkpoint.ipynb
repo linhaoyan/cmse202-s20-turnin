{
 "cells": [
  {
   "cell_type": "markdown",
   "metadata": {
    "slideshow": {
     "slide_type": "-"
    }
   },
   "source": [
    "### <p style=\"text-align: right;\"> &#9989; Put your name here </p>\n"
   ]
  },
  {
   "cell_type": "markdown",
   "metadata": {
    "slideshow": {
     "slide_type": "-"
    }
   },
   "source": [
    "# Day 9 Pre-Class Assignment: Working with the IPython command interpreter and Graph Theory\n",
    "\n",
    "<img src=\"https://cdn-images-1.medium.com/max/800/1*Q9n58avTamrRmY66Ne0Hug.png\" width=\"400px\">"
   ]
  },
  {
   "cell_type": "markdown",
   "metadata": {
    "slideshow": {
     "slide_type": "-"
    }
   },
   "source": [
    "## Goals for today's pre-class assignment \n",
    "\n",
    "</p>\n",
    "\n",
    "1. The IPython command line\n",
    "1. Quick introduction to Graph Theory"
   ]
  },
  {
   "cell_type": "markdown",
   "metadata": {},
   "source": [
    "## Assignment instructions\n",
    "**This assignment is due by 11:59 p.m. the day before class** and should be uploaded into the appropriate \"Pre-class assignments\" submission folder in the Desire2Learn website. "
   ]
  },
  {
   "cell_type": "markdown",
   "metadata": {},
   "source": [
    "-------------\n",
    "# 1. IPython\n",
    "\n",
    "You have been working with jupyter notebooks for some time. But did you know you can use the interpreter that notebooks use on the command line? You can and it is very helpful.\n",
    "\n",
    "That interpreter is called `ipython`, where `i` is for \"interactive\". We can open an ipython interepreter on our command line and get many of the advantages of both python and command line at the same time."
   ]
  },
  {
   "cell_type": "markdown",
   "metadata": {},
   "source": [
    "## Starting ipython\n",
    "\n",
    "When you get anaconda, you get an ipython command console as well. Two ways to open it:\n",
    "\n",
    "- On Windows, go to your `start` menu and under `Anaconda 3 (64bit)` there should be an `Anaconda Prompt`. Open that.\n",
    "   - It's possible that, if we got everything properly setup on Gitbash, things will work from there as well\n",
    "- On Mac, if you got your `Terminal` to work with python, open that now\n",
    "\n",
    "Having opened a command line/prompt, type `ipython`. You should get a window that looks something like the one below\n",
    "\n",
    "<img src=\"https://drive.google.com/uc?id=1XKduBRwtRBjhusIRzFFY5j_j3Qdb9G9g\">\n",
    "\n",
    "If it doesn't say \"Python 3.7.\" at the top of that window, kill the session with `Ctrl-D` (while holding the try `Ctrl` key press `d`). Start again with `ipython3`"
   ]
  },
  {
   "cell_type": "markdown",
   "metadata": {},
   "source": [
    "## What can I do?\n",
    "\n",
    "There are three \"kinds\" of things you can do in ipython\n",
    "- regular python stuff\n",
    "- ipython specific things\n",
    "- command line stuff (ls, cd, etc.)\n",
    "\n",
    "Let's take a quick look at each"
   ]
  },
  {
   "cell_type": "markdown",
   "metadata": {},
   "source": [
    "### Regular python\n",
    "\n",
    "Anything you have done before in python you can do here: set variables, import packages, draw graphs. Take a look at the window below.\n",
    "\n",
    "- note that you should be able to pop up a window of a graph. If not you can always save it as a file.\n",
    "\n",
    "<img src=\"https://drive.google.com/uc?id=1zN8k-mv-mJHM-uUr9PRP9QquEuNS9lxe\" width=\"700px\">"
   ]
  },
  {
   "cell_type": "markdown",
   "metadata": {},
   "source": [
    "<font size=8 color=\"#009600\">&#9998;</font> Do This - See if you can draw a simple graph from an ipython console."
   ]
  },
  {
   "cell_type": "markdown",
   "metadata": {},
   "source": [
    "### ipython history things\n",
    "\n",
    "ipython has a large number of \"helper\" abilities to aid in your console use. Some simple things:\n",
    "\n",
    "ipython has an `In[n]` and `Out[n]` at the front of each line. The `n` is a history number that remembers the input provide or the output produced.\n",
    "\n",
    "- `up-arrow` key or `down-arrow` key on your keyboard moves through the history of what you have typed and presents a line that you can edit/change and then rerun\n",
    "- the `history -n` command gives you a list of inputs, with a \"history number\" of all that you have typed\n",
    "- the `rerun x` where `x` is a history number will rerun that command\n",
    "- the `run` command will load a script file and run it\n",
    "   - the `reload` will reload an updated file\n",
    "- the special characters `_`, `__` and `___` are the **outputs** from the previous, before that and before that operation.\n",
    "\n",
    "Look at the window below. \n",
    "- history:5, I used the up-arrow key to give me the `arange` line again and changed the increment value. I then hit enter and reran it.\n",
    "- history:6 I reploted by using up-arrow and re-running the plt line\n",
    "- history:7-9 I looked at my input history and found that history:3 had the 0.1 increment. I used `rerun 3` to rerun that line\n",
    "- history:11 I wanted to remember what `ary` was before I reset it so I got the 2nd previous output and printed it with `__`\n",
    "\n",
    "<img src=\"https://drive.google.com/uc?id=1ygF1ZxymbkFEec_UOU-etULaRPKs7hrG\" width=\"500px\">"
   ]
  },
  {
   "cell_type": "markdown",
   "metadata": {},
   "source": [
    "<font size=8 color=\"#009600\">&#9998;</font> Do This - try moving up and down the history list with up-arrow or down-arrow. Change the increment of the `arange` and replot."
   ]
  },
  {
   "cell_type": "markdown",
   "metadata": {},
   "source": [
    "### Querying elements\n",
    "\n",
    "You can ask questions about an element using ipython and get a lot of good information\n",
    "\n",
    "- follow any variable or other object with a `?` and ipython will print out information about the object. I created a `rng` range element on history:15. Typing `rng?` followed by enter tells me something about the object\n",
    "- if the object can take a method (and most can), then I can type a . and a tab and get a list of possible operations. For example, typing `rng.` followd by a tab gives me a list of operations and another tab moves through that list providing a brief description. In the image below I have selected (via a tab> `rng.count` and it is described below the method.\n",
    "\n",
    "<img src=\"https://drive.google.com/uc?id=10Iaje9ro3pWHteiXlfBeSx8YHx16xAJu\" width=\"500px\">"
   ]
  },
  {
   "cell_type": "markdown",
   "metadata": {},
   "source": [
    "<font size=8 color=\"#009600\">&#9998;</font> Do This - Assign a variable to a python object (a list, a dict, something you like). Query what that variable is with a `?`. Look and see how many methods there are associated with that type (as we did with `rng` above). Note there be many and tabbing through all might be a bit tedious."
   ]
  },
  {
   "cell_type": "markdown",
   "metadata": {},
   "source": [
    "### Command line operations\n",
    "\n",
    "Most of the shell commands we have used will work in ipython. For example\n",
    "- `ls` will list the files in the currently connected directory\n",
    "- `pwd` will tell you your current directory\n",
    "- `cd` will allow you to change what the current directory is.\n",
    "\n",
    "If you want to type a more complicated shell command, you preced it with a `!`"
   ]
  },
  {
   "cell_type": "markdown",
   "metadata": {},
   "source": [
    "<font size=8 color=\"#009600\">&#9998;</font> Do This - list the contents of your current directory. Now change directories to a sub directory and list the contents again"
   ]
  },
  {
   "cell_type": "markdown",
   "metadata": {},
   "source": [
    "## Read the quick tutorial\n",
    "\n",
    "The folks at ipython have a quick tutorial. You should take a look as it might give you some more useful details.\n",
    "\n",
    "<a href=\"https://ipython.readthedocs.io/en/stable/interactive/tutorial.html\"> Link to the official Ipython Tutorial>"
   ]
  },
  {
   "cell_type": "markdown",
   "metadata": {},
   "source": [
    "-----\n",
    "## 2. Very quick introduction to Graph Theory\n",
    "\n",
    "Note the video below is literally as *very quick* introduction to graphy theory.  You might need to watch it more than once to make sure you understand the concepts."
   ]
  },
  {
   "cell_type": "code",
   "execution_count": null,
   "metadata": {},
   "outputs": [],
   "source": [
    "from IPython.display import YouTubeVideo\n",
    "YouTubeVideo(\"m-KUiibR4Xs\",width=640,height=360)"
   ]
  },
  {
   "cell_type": "markdown",
   "metadata": {},
   "source": [
    "Now that you understand a bit about what as \"graph\" is in this context, which might also sometimes just be referred to as a \"network\", here is another short video that walks through the details a little slower and highlights some more examples of how a graph might be used to represent the real world."
   ]
  },
  {
   "cell_type": "code",
   "execution_count": null,
   "metadata": {},
   "outputs": [],
   "source": [
    "from IPython.display import YouTubeVideo\n",
    "YouTubeVideo(\"82zlRaRUsaY\",width=640,height=360)"
   ]
  },
  {
   "cell_type": "markdown",
   "metadata": {},
   "source": [
    "**Question 5:** Consider the following graph. How would you represent this graph in python.  Write some python code to represent this graph as either adjacency list (maybe using a dictionary or tuple?) or an adjacency matrix (maybe using 2D list?) \n",
    "\n",
    "\n",
    "<img src=\"http://www.algolist.net/img/graphs/graph-ir-1.png\">\n",
    "<p style=\"text-align: right;\">\n",
    "<a href=\"http://www.algolist.net/\">Image from: http://www.algolist.net/</p></a>\n"
   ]
  },
  {
   "cell_type": "code",
   "execution_count": null,
   "metadata": {},
   "outputs": [],
   "source": [
    "# Do This - Erase the contents of this cell and replace it with your answer to the above question!  \n",
    "#(double-click on this text to edit this cell, and hit shift+enter to save the text)\n"
   ]
  },
  {
   "cell_type": "markdown",
   "metadata": {},
   "source": [
    "**Question 6:** Now consider the following graph. Describe how you would change your format to account for directed edges.  How about labels that are not numbers?  Feel free to include an example in python (not required). \n",
    "\n",
    "\n",
    "\n",
    "<img src=\"http://www.cs.amherst.edu/ccm/cs31/augraph.jpg\">\n",
    "<p style=\"text-align: right;\">\n",
    "<a href=\"http://www.cs.amherst.edu/ccm/cs31\">Image from: http://www.cs.amherst.edu/ccm/cs3</p></a>\n",
    "\n",
    "\n",
    "\n"
   ]
  },
  {
   "cell_type": "markdown",
   "metadata": {},
   "source": [
    "<font size=8 color=\"#009600\">&#9998;</font> Do This - Erase the contents of this cell and replace it with your answer to the above question!  (double-click on this text to edit this cell, and hit shift+enter to save the text)"
   ]
  },
  {
   "cell_type": "markdown",
   "metadata": {},
   "source": [
    "**Find this stuff interesting?** If you want to learn more about graph theory here is a great set of videos by Dr. Sarada Herke. They are longer videos and are not required for the course, but if this is something you'd like to learn more about, I encourage you to check them out.\n",
    "\n",
    "https://www.youtube.com/user/DrSaradaHerke"
   ]
  },
  {
   "cell_type": "markdown",
   "metadata": {},
   "source": [
    "----\n",
    "# 3. Assignment wrap-up\n",
    "\n",
    "Please fill out the form that appears when you run the code below.  **You must completely fill this out in order to receive credit for the assignment!**"
   ]
  },
  {
   "cell_type": "code",
   "execution_count": null,
   "metadata": {},
   "outputs": [],
   "source": [
    "from IPython.display import HTML\n",
    "HTML(\n",
    "\"\"\"\n",
    "<iframe \n",
    "\tsrc=\"https://cmse.msu.edu/cmse202-pc-survey\" \n",
    "\twidth=\"800px\" \n",
    "\theight=\"600px\" \n",
    "\tframeborder=\"0\" \n",
    "\tmarginheight=\"0\" \n",
    "\tmarginwidth=\"0\">\n",
    "\tLoading...\n",
    "</iframe>\n",
    "\"\"\"\n",
    ")"
   ]
  },
  {
   "cell_type": "markdown",
   "metadata": {},
   "source": [
    "---------\n",
    "### Congratulations, you're done with your pre-class assignment!\n",
    "\n",
    "Now, you just need to submit this assignment by uploading it to the course <a href=\"https://d2l.msu.edu/\">Desire2Learn</a> web page for today's submission folder. (Don't forget to add your name in the first cell.)"
   ]
  },
  {
   "cell_type": "markdown",
   "metadata": {},
   "source": [
    "&#169; Copyright 2018,  Michigan State University Board of Trustees"
   ]
  }
 ],
 "metadata": {
  "anaconda-cloud": {},
  "kernelspec": {
   "display_name": "Python 3",
   "language": "python",
   "name": "python3"
  },
  "language_info": {
   "codemirror_mode": {
    "name": "ipython",
    "version": 3
   },
   "file_extension": ".py",
   "mimetype": "text/x-python",
   "name": "python",
   "nbconvert_exporter": "python",
   "pygments_lexer": "ipython3",
   "version": "3.7.4"
  }
 },
 "nbformat": 4,
 "nbformat_minor": 4
}
