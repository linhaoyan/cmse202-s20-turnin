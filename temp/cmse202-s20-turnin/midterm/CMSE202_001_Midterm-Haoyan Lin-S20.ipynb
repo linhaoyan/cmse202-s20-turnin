{
 "cells": [
  {
   "cell_type": "markdown",
   "metadata": {},
   "source": [
    "## <p style=\"text-align: right;\"> &#9989; Haoyan Lin</p>"
   ]
  },
  {
   "cell_type": "markdown",
   "metadata": {},
   "source": [
    "# CMSE 202 Midterm (Section 001 - Spring 2020)\n",
    "\n",
    "The goal of this midterm is to give you the opportunity to test out some of the skills that you've developed thus far this semester. In particular, you'll practice setting up a GitHub repository, committing and pushing repository changes, downloading data with command line tools, writing a python class, and using a new-to-you Python package. You should find that you have all of the skills necessary to complete this exam with even just eight weeks of CMSE 202 under your belt!\n",
    "\n",
    "You are encouraged to look through the entire exam before you get started so that you can appropriately budget your time and understand the broad goals of the exam. Once you've read through it, try doing Parts 1 and 2 first so that you have your repository set up and you download the provided data files as they will be necessary to complete the assigned tasks. Let your instructor know right away if you have problems downloading the data!\n",
    "\n",
    "The exam is set up so that even if you get stuck on one part there are opportunities to get points on the other parts, so consider jumping ahead if you feel like you aren't making progress and then come back later if you have time.\n",
    "\n",
    "**Important note about using online resources**: This exam is \"open internet\". That means that you can look up documentation, google how to accomplish certain Python tasks, etc. Being able to effectively use the internet for computational modeling and data science is a very important skill, so we want to make sure you have the opportunity to exercise that skill. **However**: The use of any person-to-person communication software is absolutely not acceptable. If you are seen accessing your email, using a chat program (e.g. Slack), or any sort of collaborative cloud storage or document software (e.g. Google Documents), you will be at risk for receiving a zero on the exam.\n",
    "\n",
    "**Keep your eye on your screen!** Unfortunately, there isn't enough space in the room for everyone to sit at their own table so please do your best to keep your eyes on your own screen. If any of the instructors observe suspicious behavior, you will, again, risk receiving a zero."
   ]
  },
  {
   "cell_type": "markdown",
   "metadata": {},
   "source": [
    "---\n",
    "## Part 1: Setting up a repository for tracking changes (15 points)\n",
    "\n",
    "Before you get too far along in the assignment, you need to set up a **private** GitHub repository that you will store this notebook in and track the changes as you make them. For this section you should:\n",
    "\n",
    "1. Set up a new **private** Git repository on GitHub.\n",
    "2. Clone the repository onto your computer.\n",
    "3. Move this notebook into that repository and then add it and commit it to the repository and push the changes to the remote repository (**Suggestion**: You may want save and close this notebook before you move to the repository and then reopen it after you move it to make sure that you're working with the right copy of the notebook.)\n",
    "4. Add your instructor as a Collaborator to your respository. As a reminder, your instructor and TA's usernames are: \"yangy5\" and \"nchamusah14\" respectivey.\n",
    "\n",
    "From this point on you will occasionally be asked to save the state of your notebook, commit the changes, and push it to your new repository.\n",
    "\n",
    "**Note**: If you're struggling with getting the Git repository set up, you can always just work on the notebook as is and try to come back and figure out the repository component later. You may lose some points though since you won't have periodic commits as you make progress along the way, but it will be better than not working on the other parts of the exam!"
   ]
  },
  {
   "cell_type": "markdown",
   "metadata": {},
   "source": [
    "---\n",
    "## Part 2: Data Loading and Quadratic Regression (40 points)\n",
    "\n",
    "The goal in this part is to build a *quadratic regression* model that predicts a person's weight based on the height. We have learned linear regression in this course, that is to find the equation of a *line* that best fits a set of data. In contrast, a quadratic regression is the process of finding the equation of a *parabola* that best fits the data (for details, read https://www.varsitytutors.com/hotmath/hotmath_help/topics/quadratic-regression). The dataset we will explore consists of the heights and weights of 100 people. "
   ]
  },
  {
   "cell_type": "markdown",
   "metadata": {},
   "source": [
    "**Question 2.1: (5 points)** Load the file \"WeightHeight.csv\" and display it as a data frame."
   ]
  },
  {
   "cell_type": "code",
   "execution_count": null,
   "metadata": {},
   "outputs": [],
   "source": [
    "### Put your code here ###\n"
   ]
  },
  {
   "cell_type": "markdown",
   "metadata": {},
   "source": [
    "We will take the first 80 samples of height-weight pairs as the training data to build the model, and will take the last 20 samples of height-weight pairs as the testing data to validate the accuracy of the model.\n",
    "\n",
    "**Question 2.2 (10 points):** Create the following 4 *Numpy arrays* out of the data frame:\n",
    "\n",
    "(1) *training_height*: consisting of the first 80 heights in the column \"Height\";\n",
    "\n",
    "(2) *testing_height*: consisting of the last 20 heights in the column \"Height\";\n",
    "\n",
    "(3) *training_weight*: consisting of the first 80 weights in the column \"Weight\";\n",
    "\n",
    "(4) *testing_weight*: consisting of the last 20 weights in the column \"Weight\"."
   ]
  },
  {
   "cell_type": "code",
   "execution_count": null,
   "metadata": {},
   "outputs": [],
   "source": [
    "### Put your code here ###\n"
   ]
  },
  {
   "cell_type": "markdown",
   "metadata": {},
   "source": [
    "**Question 2.3: (5 points)** Draw the scatter plot with *training_height* as the horizontal $x$-axis and *training_weight* as the vertical $y$-axis."
   ]
  },
  {
   "cell_type": "code",
   "execution_count": null,
   "metadata": {},
   "outputs": [],
   "source": [
    "### Put your code here ###\n"
   ]
  },
  {
   "cell_type": "markdown",
   "metadata": {},
   "source": [
    "**Question 2.4: (10 points)** Implement quadratic regression with *training_height* (as the $x$ variable) and *training_weight* (as the $y$ variable). Plot the parabola over the scatter plot in **Question 2.3**.\n",
    "\n",
    "**Hint:** search online to find a function in Python that can implement quadratic regression.\n"
   ]
  },
  {
   "cell_type": "code",
   "execution_count": null,
   "metadata": {},
   "outputs": [],
   "source": [
    "### Put your code here ###\n"
   ]
  },
  {
   "cell_type": "markdown",
   "metadata": {},
   "source": [
    "Recall the mean-squared error (MSE) of a data set with $n$ samples $(x_1,y_1)$, $\\dots$, $(x_n,y_n)$, is defined as\n",
    "$$ MSE = \\frac{1}{n}\\sum_{i=1}^{n}{(y_i - y_{predicted}(x_i))}^{2} $$\n",
    "\n",
    "**Question 2.5 (10 points):** Write *for* loops to manually compute the MSEs on both the training data (i.e., *training_height* and *training_weight*) and the testing data (i.e., *testing_height* and *testing_weight*). Here the predicted weights should be computed by the quadratic regression model. "
   ]
  },
  {
   "cell_type": "code",
   "execution_count": null,
   "metadata": {},
   "outputs": [],
   "source": [
    "### Put your code here ###\n"
   ]
  },
  {
   "cell_type": "markdown",
   "metadata": {},
   "source": [
    "---\n",
    "### STOP: Save the current state of your notebook, commit the changes to your local repository and push those changes to the remote repository. Use the commit message \"Committing Part 2\".\n",
    "---"
   ]
  },
  {
   "cell_type": "markdown",
   "metadata": {},
   "source": [
    "---\n",
    "## Part 3: Polynomial Regression (25 points)\n",
    "\n",
    "A polynomial regression is the process of finding the equation of a polynomial that best fits a set of data (https://en.wikipedia.org/wiki/Polynomial_regression). In particular, linear regression is a polynomial regression with polynomials of degree 1; quadratic regression is a polynomial regression with polynomials of degree 2. In this part, we study general polynomial regression."
   ]
  },
  {
   "cell_type": "markdown",
   "metadata": {},
   "source": [
    "The package *Numpy* has built-in functions to perform polynomial regression. Fortunately, *Numpy* has been included in the Anaconda distribution.  \n",
    "\n",
    "**Question 3.1 (5 points):** Suppose *Numpy* were not included in Anaconda and you would like to install this package using *pip* in the command line interface. Write down the full command to do this task."
   ]
  },
  {
   "cell_type": "markdown",
   "metadata": {},
   "source": [
    "<font size=8 color=\"#009600\">&#9998;</font> Do This - Erase the contents of this cell and replace it with your answer to the above question!  (double-click on this text to edit this cell, and hit shift+enter to save the text)"
   ]
  },
  {
   "cell_type": "markdown",
   "metadata": {},
   "source": [
    "Find the built-in function in *Numpy* to implement polynomial regression. Read the documentation to understand what the input and output mean and how to apply it.\n",
    "\n",
    "**3.2 Question: (10 points)** Implement cubic regression, that is, polynomial regression with polynomials of degree 3, with *training_height* (as the $x$ variable) and *training_weight* (as the $y$ variable). Plot the cubic curve over the scatter plot."
   ]
  },
  {
   "cell_type": "code",
   "execution_count": 1,
   "metadata": {},
   "outputs": [],
   "source": [
    "### Put your code here ###\n"
   ]
  },
  {
   "cell_type": "markdown",
   "metadata": {},
   "source": [
    "**Question 3.3: (5 points)** Write *for* loops to manually compute the MSEs of cubic regression on both the training data (i.e., *training_height* and *training_weight*) and the testing data (i.e., *testing_height* and *testing_weight*). Here the predicted weights are computed by your cubic regression model."
   ]
  },
  {
   "cell_type": "code",
   "execution_count": null,
   "metadata": {},
   "outputs": [],
   "source": [
    "### Put your code here ###\n"
   ]
  },
  {
   "cell_type": "markdown",
   "metadata": {},
   "source": [
    "**Question 3.4: (5 points)** Compare the MSEs in **Question 2.5** and **Question 3.3**. Which regression model do you think is better for this data set? Explain your criteria."
   ]
  },
  {
   "cell_type": "markdown",
   "metadata": {},
   "source": [
    "<font size=8 color=\"#009600\">&#9998;</font> Do This - Erase the contents of this cell and replace it with your answer to the above question!  (double-click on this text to edit this cell, and hit shift+enter to save the text)"
   ]
  },
  {
   "cell_type": "markdown",
   "metadata": {},
   "source": [
    "---\n",
    "### STOP: Save the current state of your notebook, commit the changes to your local repository and push those changes to the remote repository. Use the commit message \"Committing Part 3\".\n",
    "---"
   ]
  },
  {
   "cell_type": "markdown",
   "metadata": {},
   "source": [
    "## Part 4: Writing a simple Python class (20 points)"
   ]
  },
  {
   "cell_type": "markdown",
   "metadata": {},
   "source": [
    "Suppose a class has 50 students and each student takes three subjects: art, science, and physical education (PE). \n",
    "\n",
    "\n",
    "**Question 4.1 (10 points):** Write a class named \"Student\". The class has 5 attributes: \"name\" (type: string), \"art\" (type: integer), \"science\" (type: integer), \"pe\" (type: integer), and \"total\" (type: integer). The class has 2 methods: \"init\" and \"get_info\". The \"init\" method assigns three random integers between 50 and 100 (including 50 and 100) to the attributes \"art\", \"science\" and \"pe\", respectively. The \"init\" method also assigns the sum of these three integers to the attribute \"total\". The \"get_info\" method prints to the screen the student's scores of art, science, PE, and the total score."
   ]
  },
  {
   "cell_type": "code",
   "execution_count": null,
   "metadata": {},
   "outputs": [],
   "source": [
    "### Put your code here ###\n"
   ]
  },
  {
   "cell_type": "markdown",
   "metadata": {},
   "source": [
    "**Question 4.2 (10 points):** Write a *for* loop to create 50 instances of the class \"Student\". Set their \"name\" attributes as \"Student0, Student1, ..., Student49\", respective. Rank the students based on their total scores of the three subjects from the highest to the lowest. If two students have equal totals, the one with smaller name index comes first, that is, Student$i$ comes before Student$j$ if $i<j$."
   ]
  },
  {
   "cell_type": "code",
   "execution_count": null,
   "metadata": {},
   "outputs": [],
   "source": [
    "### Put your code here ###\n"
   ]
  },
  {
   "cell_type": "markdown",
   "metadata": {},
   "source": [
    "---\n",
    "### STOP: Save the current state of your notebook, commit the changes to your local repository and push those changes to the remote repository. Use the commit message \"Committing Part 4\".\n",
    "---"
   ]
  },
  {
   "cell_type": "markdown",
   "metadata": {},
   "source": [
    "## You're done! Congrats on finishing your CMSE 202 Midterm!\n",
    "\n",
    "Make sure all of your changes to your repository are committed and pushed to GitHub. Also upload a copy of this notebook to the dropbox on D2L in case something went wrong with your repository or if you couldn't get the repository to work."
   ]
  }
 ],
 "metadata": {
  "kernelspec": {
   "display_name": "Python 3",
   "language": "python",
   "name": "python3"
  },
  "language_info": {
   "codemirror_mode": {
    "name": "ipython",
    "version": 3
   },
   "file_extension": ".py",
   "mimetype": "text/x-python",
   "name": "python",
   "nbconvert_exporter": "python",
   "pygments_lexer": "ipython3",
   "version": "3.7.3"
  }
 },
 "nbformat": 4,
 "nbformat_minor": 2
}
