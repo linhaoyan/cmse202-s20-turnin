{
 "cells": [
  {
   "cell_type": "markdown",
   "metadata": {
    "slideshow": {
     "slide_type": "-"
    }
   },
   "source": [
    "## <p style=\"text-align: right;\"> &#9989; Haoyan Lin </p>\n"
   ]
  },
  {
   "cell_type": "markdown",
   "metadata": {
    "slideshow": {
     "slide_type": "-"
    }
   },
   "source": [
    "# Day 8 Pre-Class Assignment\n",
    "# Continued investigation of numerical solutions to ordinary differential equations"
   ]
  },
  {
   "cell_type": "markdown",
   "metadata": {
    "slideshow": {
     "slide_type": "-"
    }
   },
   "source": [
    "---\n",
    "## Learning goals for this pre-class assignment \n",
    "\n",
    "1. Review the Euler Method as a numerical solution to solving an ordinary different equation\n",
    "1. Think about the accuracy of numerical solutions\n",
    "1. Review  higher-order solutions (e.g. The Midpoint Method)"
   ]
  },
  {
   "cell_type": "markdown",
   "metadata": {},
   "source": [
    "## Assignment instructions\n",
    "**This assignment is due by 11:59 p.m. the day before class** and should be uploaded into the appropriate \"Pre-class assignments\" dropbox folder in the Desire2Learn website. "
   ]
  },
  {
   "cell_type": "markdown",
   "metadata": {},
   "source": [
    "-----\n",
    "# Euler Method versus Midpoint Method\n",
    "\n",
    "The following video reviews ODEs and how we can solve them numerically. The first part of the video revisits the Euler method that you worked on in the last class and then discusses a higher-order, more accurate solution, called the Midpoint method. If you're feeling good about ODEs and the Euler method, feel free to jump forward in the video to approximately the 2-minute mark."
   ]
  },
  {
   "cell_type": "code",
   "execution_count": 1,
   "metadata": {},
   "outputs": [
    {
     "data": {
      "image/jpeg": "[encoded data removed]",
      "text/html": [
       "\n",
       "        <iframe\n",
       "            width=\"640\"\n",
       "            height=\"360\"\n",
       "            src=\"https://www.youtube.com/embed/igdoiqEROXI\"\n",
       "            frameborder=\"0\"\n",
       "            allowfullscreen\n",
       "        ></iframe>\n",
       "        "
      ],
      "text/plain": [
       "<IPython.lib.display.YouTubeVideo at 0x7f5e7c219eb8>"
      ]
     },
     "execution_count": 1,
     "metadata": {},
     "output_type": "execute_result"
    }
   ],
   "source": [
    "from IPython.display import YouTubeVideo\n",
    "YouTubeVideo(\"igdoiqEROXI\",width=640,height=360)"
   ]
  },
  {
   "cell_type": "markdown",
   "metadata": {},
   "source": [
    "### Reviewing the presented solutions to a system of ODEs\n",
    "\n",
    "_Now that you've watched the video, let's revisit the math behind these two solutions_:\n",
    "\n",
    "Recall that when you have a variable, $x$, that evolves as a function of time, $\\frac{dx}{dt} = f(t,x)$, you can use the **forward Euler method** to step the solution forward in time in the following way:\n",
    "\n",
    "$$x(t+\\Delta t) = x(t) + \\Delta t\\frac{dx}{dt} = x(t) + \\Delta t~f(t,x)$$\n",
    "\n",
    "We can simplify the notation by defining $x_n = x(t_n)$ and $x_{n+1} = x(t+\\Delta t) = x(t_{n+1})$ so that the above equation becomes:\n",
    "\n",
    "$$x_{n+1} = x_n + \\Delta t~f(t_n,x_n)$$\n",
    "\n",
    "You can read more about this method [here](https://en.wikipedia.org/wiki/Euler_method).\n",
    "\n",
    "If we want to evolve that variable using the **midpoint method** (also sometimes called the second order Runge-Kutta method), then we can compute the evolution of the system this way\n",
    "\n",
    "$$x_{n+1} = x_n + \\Delta t~f\\big(t_n + \\frac{\\Delta t}{2}, x_n + \\frac{\\Delta t}{2}f(t_n, x_n)\\big)$$\n",
    "\n",
    "Essentially, with the midpoint method, we take a half step and then use the information at that half step to take our full step. We can write this in a slightly simpler way by doing a bit of new variable definition:\n",
    "\n",
    "$$k_1 = \\Delta t~f(t_n,x_n)$$\n",
    "$$k_2 = \\Delta t~f\\big(t_n + \\frac{\\Delta t}{2}, x_n + \\frac{k_1}{2}\\big)$$\n",
    "$$x_{n+1} = x_n + k_2$$\n",
    "\n",
    "You can read more about this method [here](https://en.wikipedia.org/wiki/Midpoint_method)."
   ]
  },
  {
   "cell_type": "markdown",
   "metadata": {},
   "source": [
    "**Additional Follow-up**: In class, you will be expected to code up your model from the previous class using a higher order solution. The video only mentions two possible methods for solving an ordinary differential equation, the Euler Method and the Midpoint Method, but there are actually a number of different methods for solving such equations. One class of these methods are the Runge-Kutta methods. You should spend some time reading the following link to learn a bit more about the \"RK4\" method.\n",
    "\n",
    "Details on Runge-Kutta methods:\n",
    "https://en.wikipedia.org/wiki/Runge%E2%80%93Kutta_methods\n",
    "\n",
    "Feel free to explore sources of information outside of Wikipedia as well."
   ]
  },
  {
   "cell_type": "markdown",
   "metadata": {},
   "source": [
    "---\n",
    "### Assignment wrapup\n",
    "\n",
    "Please fill out the form that appears when you run the code below.  **You must completely fill this out in order to receive credit for the assignment!**"
   ]
  },
  {
   "cell_type": "code",
   "execution_count": 2,
   "metadata": {},
   "outputs": [
    {
     "data": {
      "text/html": [
       "\n",
       "<iframe \n",
       "\tsrc=\"https://cmse.msu.edu/cmse202-pc-survey\" \n",
       "\twidth=\"800px\" \n",
       "\theight=\"600px\" \n",
       "\tframeborder=\"0\" \n",
       "\tmarginheight=\"0\" \n",
       "\tmarginwidth=\"0\">\n",
       "\tLoading...\n",
       "</iframe>\n"
      ],
      "text/plain": [
       "<IPython.core.display.HTML object>"
      ]
     },
     "execution_count": 2,
     "metadata": {},
     "output_type": "execute_result"
    }
   ],
   "source": [
    "from IPython.display import HTML\n",
    "HTML(\n",
    "\"\"\"\n",
    "<iframe \n",
    "\tsrc=\"https://cmse.msu.edu/cmse202-pc-survey\" \n",
    "\twidth=\"800px\" \n",
    "\theight=\"600px\" \n",
    "\tframeborder=\"0\" \n",
    "\tmarginheight=\"0\" \n",
    "\tmarginwidth=\"0\">\n",
    "\tLoading...\n",
    "</iframe>\n",
    "\"\"\"\n",
    ")"
   ]
  },
  {
   "cell_type": "markdown",
   "metadata": {},
   "source": [
    "---------\n",
    "### Congratulations, you're done with your pre-class assignment!\n",
    "\n",
    "Now, you just need to submit this assignment by uploading it to the course <a href=\"https://d2l.msu.edu/\">Desire2Learn</a> web page for this assignment's dropbox (Don't forget to add your names in the first cell)."
   ]
  },
  {
   "cell_type": "markdown",
   "metadata": {},
   "source": [
    "&#169; Copyright 2019,  Michigan State University Board of Trustees"
   ]
  }
 ],
 "metadata": {
  "anaconda-cloud": {},
  "kernelspec": {
   "display_name": "Python 3",
   "language": "python",
   "name": "python3"
  },
  "language_info": {
   "codemirror_mode": {
    "name": "ipython",
    "version": 3
   },
   "file_extension": ".py",
   "mimetype": "text/x-python",
   "name": "python",
   "nbconvert_exporter": "python",
   "pygments_lexer": "ipython3",
   "version": "3.7.3"
  }
 },
 "nbformat": 4,
 "nbformat_minor": 4
}
