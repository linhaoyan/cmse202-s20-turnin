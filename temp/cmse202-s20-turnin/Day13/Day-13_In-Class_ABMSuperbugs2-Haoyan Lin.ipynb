{
 "cells": [
  {
   "cell_type": "markdown",
   "metadata": {},
   "source": [
    "### <p style=\"text-align: right;\"> &#9989; **Haoyan Lin** </p>\n",
    "#### <p style=\"text-align: right;\"> &#9989;  Larissa Ford, Thanh lai, Connor Kromp, Dongdong Li</p>"
   ]
  },
  {
   "cell_type": "markdown",
   "metadata": {},
   "source": [
    "# Day 13 In-Class Assignment: Agent Based Modeling of Superbugs (part 2)\n",
    "\n",
    "<img src=\"http://abstrusegoose.com/strips/you_down_wit_OPC-yeah_you_know_me.png\" width=600px>\n",
    "<p style=\"text-align: right;\">Amusing comic from: http://abstrusegoose.com/ </p>\n",
    "\n",
    "1. **Scientific motivation** \n",
    "    - Antibacterial Resistance\n",
    "    - Digital Evolution\n",
    "2. **Modeling tools** \n",
    "    - Agent Based Modeling\n",
    "    - Asking Scientific questions\n",
    "3. **Programming concepts** \n",
    "    - Exploration, Using other peoples code\n",
    "    - Inheritance and Object Oriented programming\n",
    "4. **Python Programming Concepts** \n",
    "    - Practice with Python Classes and Inheritance\n",
    " "
   ]
  },
  {
   "cell_type": "markdown",
   "metadata": {},
   "source": [
    "## Agenda for today's class\n",
    "\n",
    "1. Review pre-class assignment\n",
    "1. Revisit your assignment from last class\n",
    "1. Understanding other people's code\n",
    "1. Running the simulation\n",
    "1. Testing Scientific Questions"
   ]
  },
  {
   "cell_type": "markdown",
   "metadata": {},
   "source": [
    "---\n",
    "# 1. Review pre-class assignment\n",
    "\n",
    "Let's discuss any issues with or questions about the pre-class assignment."
   ]
  },
  {
   "cell_type": "markdown",
   "metadata": {},
   "source": [
    "---\n",
    "# 2. Revisit your assignment from the last class\n",
    "\n",
    "Take the beginning of class to review the progress you made last week on initializing your petri dish. If you didn't finish it, try to finish it. If you finished it, review your code and think about ways you might be able to make it better. Reviewing your own code will sometimes feel like looking at someone else's code. You might find that your \"present self\" isn't a huge fan of how your \"past self\" did things (especially if your past self didn't leave you any comments!)\n",
    "\n",
    "Copy your code into this notebook and try to get your petri dish code working or make improvements to a functioning version."
   ]
  },
  {
   "cell_type": "code",
   "execution_count": 12,
   "metadata": {
    "scrolled": true
   },
   "outputs": [
    {
     "data": {
      "text/plain": [
       "array([[0., 0., 0., 0., 0., 0., 0., 0., 0., 0.],\n",
       "       [0., 0., 0., 0., 0., 0., 0., 0., 0., 0.],\n",
       "       [0., 0., 0., 0., 0., 0., 0., 0., 0., 0.],\n",
       "       [0., 0., 0., 0., 0., 0., 0., 0., 0., 0.],\n",
       "       [0., 0., 0., 0., 0., 0., 0., 0., 0., 0.],\n",
       "       [0., 0., 0., 0., 0., 0., 0., 0., 0., 0.],\n",
       "       [0., 0., 0., 0., 0., 0., 0., 0., 0., 0.],\n",
       "       [0., 0., 0., 0., 0., 0., 0., 0., 0., 0.],\n",
       "       [0., 0., 0., 0., 0., 0., 0., 0., 0., 0.],\n",
       "       [0., 0., 0., 0., 0., 0., 0., 0., 0., 0.]])"
      ]
     },
     "execution_count": 12,
     "metadata": {},
     "output_type": "execute_result"
    }
   ],
   "source": [
    "# CODE GOES HERE!\n",
    "\n",
    "import numpy as np\n",
    "import numpy.random as rand\n",
    "%matplotlib inline\n",
    "import matplotlib.pyplot as plt\n",
    "from IPython.display import display, clear_output\n",
    "\n",
    "\n",
    "def bac(height, width):\n",
    "    zeros= np.zeros((height, width))\n",
    "    dish = np.random.rand(height, width)\n",
    "    \n",
    "    \n",
    "    dish[dish[:]<1] = 0\n",
    "    return dish\n",
    "\n",
    "bac(10,10)\n",
    "\n"
   ]
  },
  {
   "cell_type": "code",
   "execution_count": 14,
   "metadata": {},
   "outputs": [
    {
     "name": "stdout",
     "output_type": "stream",
     "text": [
      "<__main__.dish_all object at 0x7f3980acf208>\n"
     ]
    }
   ],
   "source": [
    "class dish_all():\n",
    "    def init(self):\n",
    "        self.width = 100\n",
    "        self.height = 100\n",
    "        self.density  = random.randint(1,1000)\n",
    "        self.name = \"\"\n",
    "    def get_info(self):\n",
    "        print(self.name)\n",
    "        \n",
    "dish = []\n",
    "for i in range(1000):\n",
    "    a = dish_all()\n",
    "    dish.append(a)\n",
    "\n",
    "a0 = dish[0]\n",
    "a1 = dish[1]\n",
    "a2 = dish[2]\n",
    "\n",
    "print(a0)\n",
    "\n"
   ]
  },
  {
   "cell_type": "markdown",
   "metadata": {},
   "source": [
    "----\n",
    "# 3. Understanding other people's code\n",
    "\n",
    "In the last class we spent a lot of time working toward building a simulation of the Harvard antibacterial resistance experiment. To start lets import one possible solution to this simulation:"
   ]
  },
  {
   "cell_type": "code",
   "execution_count": 1,
   "metadata": {},
   "outputs": [],
   "source": [
    "import superbugs"
   ]
  },
  {
   "cell_type": "markdown",
   "metadata": {},
   "source": [
    "&#9989; **Do This:** Explore the above software, but **don't just look at the code right now**. Use standard exploration commands (e.g. use help, dir, type, or ? in your notebook) to see if you can figure out what the code does. "
   ]
  },
  {
   "cell_type": "code",
   "execution_count": 17,
   "metadata": {},
   "outputs": [
    {
     "name": "stdout",
     "output_type": "stream",
     "text": [
      "Help on module superbugs:\n",
      "\n",
      "NAME\n",
      "    superbugs - superbugs.py\n",
      "\n",
      "DESCRIPTION\n",
      "    Contains class definitions for modeling the evolution of bacteria in the\n",
      "    presence of antibiotics.\n",
      "\n",
      "CLASSES\n",
      "    builtins.object\n",
      "        bug\n",
      "        petri_dish\n",
      "    \n",
      "    class bug(builtins.object)\n",
      "     |  bug(c=0, r=0)\n",
      "     |  \n",
      "     |  Bug class. \n",
      "     |  \n",
      "     |  Each bug has 3 genes in the range [0, 1) and a location (c, r) in\n",
      "     |  a two dimensional grid.\n",
      "     |  \n",
      "     |  Attributes:\n",
      "     |      genes [type: numpy array]\n",
      "     |          List of three numbers in the range [0, 1) generated uniformly\n",
      "     |          at random.\n",
      "     |      \n",
      "     |      loc [type: tuple]\n",
      "     |          Ordered pair of coordinates specifying the bug's location.\n",
      "     |      \n",
      "     |  Methods:\n",
      "     |      __init__(c=0, r=0)\n",
      "     |          Initialize a bug with random genes at the location (c, r).\n",
      "     |      \n",
      "     |      mitosis()\n",
      "     |          Returns a new bug.\n",
      "     |      \n",
      "     |          Copies genes from the current bug to the new bug with probability\n",
      "     |          equal to 1 - mutation_rate. Else, assigns new genes at random.\n",
      "     |          \n",
      "     |      draw()\n",
      "     |          Draws the bug with rgb color corresponding to it's genes.\n",
      "     |  \n",
      "     |  Methods defined here:\n",
      "     |  \n",
      "     |  __init__(self, c=0, r=0)\n",
      "     |      Initializes a bug with random genes. Default location is (0, 0).\n",
      "     |      \n",
      "     |      Args:\n",
      "     |          c [type: int]\n",
      "     |              Specifies the column of the bug in a 2d grid.\n",
      "     |          \n",
      "     |          r [type: int]\n",
      "     |              Specifies the row of the bug in a 2d grid.\n",
      "     |  \n",
      "     |  draw(self)\n",
      "     |      Draws the bug with rgb color corresponding to it's genes.\n",
      "     |  \n",
      "     |  mitosis(self)\n",
      "     |      Returns a new bug.\n",
      "     |      \n",
      "     |      Copies genes from the current bug to the new bug with probability\n",
      "     |      equal to 1 - mutation_rate. Else, assigns new genes at random.\n",
      "     |  \n",
      "     |  ----------------------------------------------------------------------\n",
      "     |  Data descriptors defined here:\n",
      "     |  \n",
      "     |  __dict__\n",
      "     |      dictionary for instance variables (if defined)\n",
      "     |  \n",
      "     |  __weakref__\n",
      "     |      list of weak references to the object (if defined)\n",
      "    \n",
      "    class petri_dish(builtins.object)\n",
      "     |  petri_dish(n_rows=45, n_cols=90, antibods=[0, 0.5, 0.75, 0.8, 0.95, 0.8, 0.75, 0.5, 0], init_cols=[0, 89])\n",
      "     |  \n",
      "     |  petri_dish class.\n",
      "     |  \n",
      "     |  Generates a petridish representing the world where the bugs live. \n",
      "     |  Each dish has antibiotics and a list of bugs.\n",
      "     |  \n",
      "     |  Attributes:\n",
      "     |      buglist [type: dict]\n",
      "     |          dictionary of all bugs in simulation\n",
      "     |      \n",
      "     |      active [type: set]\n",
      "     |          set of active (i.e., not dead) bugs\n",
      "     |          \n",
      "     |      antibodies [type: numpy array]\n",
      "     |          2d grid storing the values of the antibiotics at each point\n",
      "     |      \n",
      "     |  Methods:\n",
      "     |      __init__()\n",
      "     |          Initializes the world.\n",
      "     |      \n",
      "     |      timestep()\n",
      "     |          Performs one timestep of the simulation.\n",
      "     |      \n",
      "     |      draw()\n",
      "     |          Draws the world as an image and plots each bug.\n",
      "     |  \n",
      "     |  Methods defined here:\n",
      "     |  \n",
      "     |  __init__(self, n_rows=45, n_cols=90, antibods=[0, 0.5, 0.75, 0.8, 0.95, 0.8, 0.75, 0.5, 0], init_cols=[0, 89])\n",
      "     |      Initializes the world.\n",
      "     |      \n",
      "     |      Args:\n",
      "     |          n_rows [type: int]\n",
      "     |              number of rows in world\n",
      "     |          \n",
      "     |          n_cols [type: int]\n",
      "     |              number of columns in world\n",
      "     |          \n",
      "     |          antibods [type: list<float>]\n",
      "     |              antibiotic values in each region of the world\n",
      "     |              length of antibods must evenly divide n_cols\n",
      "     |          \n",
      "     |          init_cols [type: list<int>]\n",
      "     |              starting columns for the antibiotics\n",
      "     |  \n",
      "     |  draw(self, background=None)\n",
      "     |      Draws the world as an image and plots each bug.\n",
      "     |  \n",
      "     |  timestep(self)\n",
      "     |      Performs one time step of the simulation.\n",
      "     |      \n",
      "     |      Loops through the bugs, finds their neighbors and initiates mitosis.\n",
      "     |      New bugs will die if their gene values are less than the corresponding\n",
      "     |      antibiotic values.\n",
      "     |  \n",
      "     |  ----------------------------------------------------------------------\n",
      "     |  Data descriptors defined here:\n",
      "     |  \n",
      "     |  __dict__\n",
      "     |      dictionary for instance variables (if defined)\n",
      "     |  \n",
      "     |  __weakref__\n",
      "     |      list of weak references to the object (if defined)\n",
      "\n",
      "DATA\n",
      "    mutation_rate = 0.2\n",
      "\n",
      "FILE\n",
      "    /home/linhaoya/CMSE202/repositories/cmse202-s20-turnin/temp/cmse202-s20-turnin/Day13/superbugs.py\n",
      "\n",
      "\n"
     ]
    }
   ],
   "source": [
    "# put your exploration code here.\n",
    "dir\n",
    "help(superbugs)\n"
   ]
  },
  {
   "cell_type": "markdown",
   "metadata": {},
   "source": [
    "&#9989; **Do This:** Using the superbugs code, initialize the experiment and display the first time step of the board."
   ]
  },
  {
   "cell_type": "code",
   "execution_count": 36,
   "metadata": {},
   "outputs": [
    {
     "data": {
      "image/png": "[encoded data removed]",
      "text/plain": [
       "<Figure size 432x288 with 1 Axes>"
      ]
     },
     "metadata": {
      "needs_background": "light"
     },
     "output_type": "display_data"
    }
   ],
   "source": [
    "# put your initialization code here\n",
    "p0 = superbugs.petri_dish()\n",
    "l = p0.draw()\n",
    "l"
   ]
  },
  {
   "cell_type": "markdown",
   "metadata": {},
   "source": [
    "----\n",
    "# 4. Running the Simulation\n",
    "\n",
    "&#9989; **Do This:** Using the petri_dish variable initialized above, write an loop that runs the ```timestep``` function followed by the ```draw``` function 10 times.  Make sure to animate the figure."
   ]
  },
  {
   "cell_type": "code",
   "execution_count": 44,
   "metadata": {},
   "outputs": [
    {
     "name": "stdout",
     "output_type": "stream",
     "text": [
      "The time is 79.95627236366272\n"
     ]
    },
    {
     "data": {
      "image/png": "[encoded data removed]",
      "text/plain": [
       "<Figure size 432x288 with 1 Axes>"
      ]
     },
     "metadata": {
      "needs_background": "light"
     },
     "output_type": "display_data"
    }
   ],
   "source": [
    "# Put your code here\n",
    "import time\n",
    "l = np.arange(0,10,1)\n",
    "\n",
    "start = time.time()\n",
    "\n",
    "\n",
    "for i in np.arange(0,100,1):\n",
    "    p1 = superbugs.petri_dish()\n",
    "    p1.timestep()\n",
    "    p1.draw()\n",
    "    \n",
    "end = time.time()\n",
    "t = end - start\n",
    "print(\"The time is\",t)"
   ]
  },
  {
   "cell_type": "markdown",
   "metadata": {},
   "source": [
    "&#9989; **Do This:** This simulation gets slower as it runs.  **Comment out the plotting and animation code and rerun the simulation with 100 iterations.**"
   ]
  },
  {
   "cell_type": "markdown",
   "metadata": {},
   "source": [
    "**Question**: Do you notice a change in the simulation run time?"
   ]
  },
  {
   "cell_type": "markdown",
   "metadata": {},
   "source": [
    "<font size=8 color=\"#009600\">&#9998;</font> Yes, I do notice the change in simulation run time, from 3.2259602546691895 to 79.95627236366272. with rerun the code, the time will turn shortly"
   ]
  },
  {
   "cell_type": "markdown",
   "metadata": {},
   "source": [
    "**Question**: What if you wanted to know exactly how long it took to run the simulation? We've used the `time` module before in our animation code, but we can also use it to time how long certain pieces of code take to run. We can record an initial time with something like:\n",
    "\n",
    "`start = time.time()`\n",
    "\n",
    "And then record the time the code finishes with:\n",
    "\n",
    "`end = time.time()`\n",
    "\n",
    "Try adding this to your code above to time exactly how long the simulation took. Add a line to **print the total run time at the end**. Try comparing the total run time to the simulation that includes the plotting and animation components.\n",
    "\n",
    "What is the difference in the timing between the versions with and without the plotting?"
   ]
  },
  {
   "cell_type": "markdown",
   "metadata": {},
   "source": [
    "<font size=8 color=\"#009600\">&#9998;</font>The version without plotting will not product the animation although rerun the simulation many times."
   ]
  },
  {
   "cell_type": "markdown",
   "metadata": {},
   "source": [
    "**Question**: What if you wanted to know how long each step of the simulation took (i.e. each iteration of the loop)? How would you track this information in your code? **If you have time, try implementing some code that tracks the time that each step took and prints the end results.**"
   ]
  },
  {
   "cell_type": "markdown",
   "metadata": {},
   "source": [
    "# 5. Testing Scientific Questions\n",
    "\n",
    "For the remainder of the class, we are going to use this code to ask some scientific questions."
   ]
  },
  {
   "cell_type": "markdown",
   "metadata": {},
   "source": [
    "&#9989; **Do This:** Discuss as a group/class the types of scientific question can you ask of this type of simulation.  "
   ]
  },
  {
   "cell_type": "markdown",
   "metadata": {},
   "source": [
    "<font size=8 color=\"#009600\">&#9998;</font> Do This - Erase the contents of this cell and replace it with your answer to the above question!  (double-click on this text to edit this cell, and hit shift+enter to save the text)"
   ]
  },
  {
   "cell_type": "markdown",
   "metadata": {},
   "source": [
    "**Question:** Given the above questions, what types of measurements or modifications might we need to add to the superbug code? "
   ]
  },
  {
   "cell_type": "markdown",
   "metadata": {},
   "source": [
    "<font size=8 color=\"#009600\">&#9998;</font> Do This - Erase the contents of this cell and replace it with your answer to the above question!  (double-click on this text to edit this cell, and hit shift+enter to save the text)"
   ]
  },
  {
   "cell_type": "markdown",
   "metadata": {},
   "source": [
    "&#9989; **Do This:** Write some code to show, in one graph, the progress of the simulation.  For example, plot the number of iterations on the x axis and the progress the bugs have made toward the center of the simulation on the y axis.  "
   ]
  },
  {
   "cell_type": "code",
   "execution_count": null,
   "metadata": {},
   "outputs": [],
   "source": [
    "#Put your code here.\n"
   ]
  },
  {
   "cell_type": "markdown",
   "metadata": {},
   "source": [
    "&#9989; **Do This:** Do this, modify or use the simulation in some way that allows you to test a scientific question of the simulation.  "
   ]
  },
  {
   "cell_type": "code",
   "execution_count": null,
   "metadata": {},
   "outputs": [],
   "source": [
    "# put your scientific experiment code here.\n"
   ]
  },
  {
   "cell_type": "markdown",
   "metadata": {},
   "source": [
    "**Question** What scientific question does your new usage or modification demonstrate and what can you conclude from the simulation?"
   ]
  },
  {
   "cell_type": "markdown",
   "metadata": {},
   "source": [
    "<font size=8 color=\"#009600\">&#9998;</font> Do This - Erase the contents of this cell and replace it with your answer to the above question!  (double-click on this text to edit this cell, and hit shift+enter to save the text)"
   ]
  },
  {
   "cell_type": "markdown",
   "metadata": {},
   "source": [
    "----"
   ]
  },
  {
   "cell_type": "markdown",
   "metadata": {},
   "source": [
    "-----\n",
    "### Congratulations, we're done!\n",
    "\n",
    "Now, you just need to submit this assignment by uploading it to the course <a href=\"https://d2l.msu.edu/\">Desire2Learn</a> web page for today's submission folder (Don't forget to add your names in the first cell).\n"
   ]
  },
  {
   "cell_type": "markdown",
   "metadata": {},
   "source": [
    "&#169; Copyright 2018,  Michigan State University Board of Trustees"
   ]
  }
 ],
 "metadata": {
  "kernelspec": {
   "display_name": "Python 3",
   "language": "python",
   "name": "python3"
  },
  "language_info": {
   "codemirror_mode": {
    "name": "ipython",
    "version": 3
   },
   "file_extension": ".py",
   "mimetype": "text/x-python",
   "name": "python",
   "nbconvert_exporter": "python",
   "pygments_lexer": "ipython3",
   "version": "3.7.3"
  }
 },
 "nbformat": 4,
 "nbformat_minor": 4
}
