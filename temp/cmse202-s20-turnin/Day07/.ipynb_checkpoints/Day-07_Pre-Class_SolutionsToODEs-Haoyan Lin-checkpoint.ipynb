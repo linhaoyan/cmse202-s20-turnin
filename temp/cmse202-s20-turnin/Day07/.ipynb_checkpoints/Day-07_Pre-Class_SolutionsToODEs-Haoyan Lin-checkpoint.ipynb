{
 "cells": [
  {
   "cell_type": "markdown",
   "metadata": {},
   "source": [
    "## <p style=\"text-align: right;\"> &#9989; Haoyan Lin</p>"
   ]
  },
  {
   "cell_type": "markdown",
   "metadata": {},
   "source": [
    "# Day 7 Pre-Class Assignment: Modeling with Ordinary Differential Equations"
   ]
  },
  {
   "cell_type": "markdown",
   "metadata": {},
   "source": [
    "<img src=\"https://plus.maths.org/issue42/features/wilson/Euler_3_web.jpg\" width= 200>"
   ]
  },
  {
   "cell_type": "markdown",
   "metadata": {},
   "source": [
    "## Learning Goals\n",
    "\n",
    "\n",
    "- Review ODEs and compartmental models\n",
    "- Learn Euler's Method for numerical integration of ODEs\n",
    "- Brainstorm ideas to discuss with your group in class tomorrow"
   ]
  },
  {
   "cell_type": "markdown",
   "metadata": {},
   "source": [
    "**This assignment is due by 11:59 p.m. the day before class** and should be uploaded into the appropriate \"Pre-class assignments\" submission folder in the Desire2Learn website. "
   ]
  },
  {
   "cell_type": "markdown",
   "metadata": {},
   "source": [
    "# ODEs & Compartmental Models\n",
    "\n",
    "In CMSE 201, you had some exposure to the idea of [ordinary differential equations (ODEs)](https://en.wikipedia.org/wiki/Ordinary_differential_equation) through the use of the package [Odeint](https://docs.scipy.org/doc/scipy/reference/generated/scipy.integrate.odeint.html). This week you will be utilizing ODEs once again! In order to prepare you, the video below will walk you through how ODEs can be constructed through the use compartmental modeling. \n",
    "\n",
    "The goal of this pre-class assignment is to get you to a place where you feel comfortable talking about ODEs, developing your own, and using them in the context of computation. If you have not taken a class on differential equations before, don't worry! You do not need to be an expert with them by any means to be able to continue developing your computational abilities with the activity this week."
   ]
  },
  {
   "cell_type": "code",
   "execution_count": null,
   "metadata": {},
   "outputs": [],
   "source": [
    "from IPython.display import YouTubeVideo\n",
    "YouTubeVideo(\"0N3qB5vaJhA\",width=640,height=360)"
   ]
  },
  {
   "cell_type": "markdown",
   "metadata": {},
   "source": [
    "<span style=\"color:red\">**Question:**</span> Briefly explain in your own words what an ODE is."
   ]
  },
  {
   "cell_type": "markdown",
   "metadata": {},
   "source": [
    "*Put your response here*"
   ]
  },
  {
   "cell_type": "markdown",
   "metadata": {},
   "source": [
    "<span style=\"color:red\">**Question:**</span> What are some examples of real world situations that can be modelled through the use of ODEs?"
   ]
  },
  {
   "cell_type": "markdown",
   "metadata": {},
   "source": [
    "*Put your response here*"
   ]
  },
  {
   "cell_type": "markdown",
   "metadata": {},
   "source": [
    "<span style=\"color:red\">**Question:**</span> How realistic should the model you design be? Is it possible to make it just like the real world?"
   ]
  },
  {
   "cell_type": "markdown",
   "metadata": {},
   "source": [
    "*Put your response here*"
   ]
  },
  {
   "cell_type": "markdown",
   "metadata": {},
   "source": [
    "# Forward Euler\n",
    "\n",
    "Now that you have had exposure to what an ODE is, and have been given a tool to help you interpret them, it is time to demonstrate how you use computation to solve them. When it comes to solving the types of ODEs we will construct in this class, there is a benefit to using numerical methods since we want to investigate our model as it progresses through time.\n",
    "\n",
    "The first method we will learn about is the [Forward Euler](https://en.wikipedia.org/wiki/Euler_method) method. This is the most basic method for numerical integration, and it is one you may be familiar with if you've had any sort of previous coding experience.  \n",
    "\n",
    "This video will walk you through what the Forward Euler method is and explain how it works. "
   ]
  },
  {
   "cell_type": "code",
   "execution_count": null,
   "metadata": {},
   "outputs": [],
   "source": [
    "from IPython.display import YouTubeVideo\n",
    "YouTubeVideo(\"3ohSsU-PT8o\",width=640,height=360)"
   ]
  },
  {
   "cell_type": "markdown",
   "metadata": {},
   "source": [
    "<span style=\"color:red\">**Question:**</span> What are two important pieces of information you need in order to utilize the Forward Euler method?"
   ]
  },
  {
   "cell_type": "markdown",
   "metadata": {},
   "source": [
    "*Put your answer here*"
   ]
  },
  {
   "cell_type": "markdown",
   "metadata": {},
   "source": [
    "# Preparing Ideas for Class\n",
    "\n",
    "You and your group will be tasked with creating a unique version of the [SIR model](https://simple.wikipedia.org/wiki/SIR_model) for the next few days in class. Below is a visual of the model that includes each of the elements that have been covered in the videos in this pre-class assignment: a system of ODEs, a compartmental model representation, and a graphical solution using the Forward Euler method. \n",
    "\n",
    "<img src=\"https://www.researchgate.net/profile/Claudio_Struchiner/publication/47676805/figure/fig1/AS:306073627054080@1449985047049/SIR-model-Schematic-representation-differential-equations-and-plot-for-the-basic-SIR.png\" width= 400><p style=\"text-align: right;\">\n",
    "</p>"
   ]
  },
  {
   "cell_type": "markdown",
   "metadata": {},
   "source": [
    "If you have not been exposed to the [SIR model](https://simple.wikipedia.org/wiki/SIR_model) before, here is a quick explanation of what each of the components represent. \n",
    "\n",
    "**Susceptible (S):** The amount of the population of people which are susceptible to the disease. This quantity never increases, it only decreases as those who are susceptible come into contact with those who are infectious. The decrease occurs at a rate proportional to beta.\n",
    "\n",
    "**Infectious (I):** The amount of the population that is infected with the disease. This quantity can both increase and decrease. It increases at a rate proportional to beta as the population of susceptibles come into contact with the infectious population. It decreases at a rate proportional to gamma as the infectious population recovers from the disease.\n",
    "\n",
    "**Recovered (R):** The amount of the population that has recovered from the disease. This quantity only increases at a rate proportional to gamma as the infectious population recovers from the disease.\n",
    "\n",
    "**Beta:** The coefficient that controls the rate at which those who are susceptible come into contact with those who are infectious and become infected with the disease themselves.\n",
    "\n",
    "**Gamma:** The coefficient that controls rate at which those who are infected with the disease recover from it. "
   ]
  },
  {
   "cell_type": "markdown",
   "metadata": {},
   "source": [
    "## Criteria for Uniqueness \n",
    "In order to make your group's model unique from the other groups, and from the existing model, here are the **two requirements** you and your group must meet: \n",
    "\n",
    "**Choose a specific disease to model.**\n",
    "There are a number of diseases and viruses that are out there, some more interesting than others. The disease that you choose impacts the rate at which a person becomes infected, how long they are infected for, and how easily they spread the disease to others in the population. In order to pick a disease, you may want to read more about something called the [basic reproduction number](https://en.wikipedia.org/wiki/Basic_reproduction_number) and see how it relates to the rates involved in your set of ODEs. \n",
    "\n",
    "**Add a compartment.**\n",
    "Your model needs to contain a minimum of three compartments and a maximum of five. At least one of the compartments needs to be different from the existing S, I, and R. On the Wikipedia page for the [SIR model](https://en.wikipedia.org/wiki/Compartmental_models_in_epidemiology#The_SIR_model) there are examples of variations which you can explore to get ideas from. No matter what the compartment the group adds is, you all must provide justifications and reasoning for why it makes sense to add the compartment with your chosen disease. For example, you would not want to use the same model for measles and the flu since those diseases do not behave in the same ways. "
   ]
  },
  {
   "cell_type": "markdown",
   "metadata": {},
   "source": [
    "Keeping the criteria in mind, research at least three different diseases which you are interested in modelling. You should know enough about them to be able to discuss why you want to model them with your group members in class. Additionally, brainstorm at least three different ideas for compartments that you and your group could add to the SIR model to accurately model the diseases which you are interested in. \n",
    "\n",
    "When you have finalized your ideas, enter them into the cell below. "
   ]
  },
  {
   "cell_type": "markdown",
   "metadata": {},
   "source": [
    "*Enter your answer here*"
   ]
  },
  {
   "cell_type": "markdown",
   "metadata": {},
   "source": [
    "---\n",
    "### Assignment wrapup\n",
    "\n",
    "Please fill out the form that appears when you run the code below.  **You must completely fill this out in order to receive credit for the assignment!**"
   ]
  },
  {
   "cell_type": "code",
   "execution_count": null,
   "metadata": {},
   "outputs": [],
   "source": [
    "from IPython.display import HTML\n",
    "HTML(\n",
    "\"\"\"\n",
    "<iframe \n",
    "\tsrc=\"https://cmse.msu.edu/cmse202-pc-survey\" \n",
    "\twidth=\"800px\" \n",
    "\theight=\"600px\" \n",
    "\tframeborder=\"0\" \n",
    "\tmarginheight=\"0\" \n",
    "\tmarginwidth=\"0\">\n",
    "\tLoading...\n",
    "</iframe>\n",
    "\"\"\"\n",
    ")"
   ]
  },
  {
   "cell_type": "markdown",
   "metadata": {},
   "source": [
    "---------\n",
    "### Congratulations, you're done with your pre-class assignment!\n",
    "\n",
    "Now, you just need to submit this assignment by uploading it to the course <a href=\"https://d2l.msu.edu/\">Desire2Learn</a> web page for this assignment's dropbox (Don't forget to add your names in the first cell)."
   ]
  },
  {
   "cell_type": "markdown",
   "metadata": {},
   "source": [
    "&#169; Copyright 2019,  Michigan State University Board of Trustees"
   ]
  }
 ],
 "metadata": {
  "kernelspec": {
   "display_name": "Python 3",
   "language": "python",
   "name": "python3"
  },
  "language_info": {
   "codemirror_mode": {
    "name": "ipython",
    "version": 3
   },
   "file_extension": ".py",
   "mimetype": "text/x-python",
   "name": "python",
   "nbconvert_exporter": "python",
   "pygments_lexer": "ipython3",
   "version": "3.7.3"
  }
 },
 "nbformat": 4,
 "nbformat_minor": 4
}
