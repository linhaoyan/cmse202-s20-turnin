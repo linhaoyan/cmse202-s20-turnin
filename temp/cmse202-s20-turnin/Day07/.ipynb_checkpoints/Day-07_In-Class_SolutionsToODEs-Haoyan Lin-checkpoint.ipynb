{
 "cells": [
  {
   "cell_type": "markdown",
   "metadata": {},
   "source": [
    "###ANSWER\n",
    "(for making sure this gets removed)\n",
    "\n",
    "### INSTRUCTOR CONTENT -- REMOVE THIS IN STUDENT VERSION\n",
    "#### The goals for this class are:\n",
    "\n",
    "* The main goal of this assignments is to see if student can define a set of ODEs to set up and SIR model and then evolve the system using forward euler. The pre-class assigment talks about compartmental models and breaks down what the various parts of a system of ODEs represent.\n",
    "* The target is for students to have a fully functioning model by the end of class and they **should not be using ODEINT** which is what they used regularly in CMSE 201."
   ]
  },
  {
   "cell_type": "markdown",
   "metadata": {},
   "source": [
    "### <p style=\"text-align: right;\"> &#9989; Haoyan LIN</p>\n",
    "\n",
    "#### <p style=\"text-align: right;\"> &#9989; Larissa Ford, Thanh lai, Connor Kromp, Dongdong Li</p>"
   ]
  },
  {
   "cell_type": "markdown",
   "metadata": {},
   "source": [
    "# Day 7 In-Class Assignment: Modeling Disease with ODEs\n",
    "\n",
    "<img src=\"https://upload.wikimedia.org/wikipedia/commons/thumb/d/d7/Leonhard_Euler.jpg/220px-Leonhard_Euler.jpg\" width= 200><p style=\"text-align: right;\">\n",
    "</p>"
   ]
  },
  {
   "cell_type": "markdown",
   "metadata": {},
   "source": [
    "## Learning Goals\n",
    "\n",
    "- Create a compartmental model based on the SIR model\n",
    "- Write out a set of ODEs based on the compartmental model\n",
    "- Numerically solve the set of ODEs by implementing Euler's method"
   ]
  },
  {
   "cell_type": "markdown",
   "metadata": {},
   "source": [
    "## Assignment instructions\n",
    "\n",
    "Today, **_with your group_**, you're going to use what you read about in your pre-class assignment to model a real world disease epidemic! \n",
    "\n",
    "**This assignment is due at the end of class** and should be uploaded into the appropriate \"In-class Assignments\" dropbox folder on D2L.  Submission instructions can be found at the end of the notebook."
   ]
  },
  {
   "cell_type": "markdown",
   "metadata": {},
   "source": [
    "# Create a Compartmental Model\n",
    "\n",
    "<!-- <img src=\"https://sineadmorris.github.io/img/headers/Precept1.png\" width= 400><p style=\"text-align: right;\">\n",
    "</p> -->\n",
    "\n",
    "As a reminder, here is the criteria that must be met as you and your group create this compartmental model. \n",
    "\n",
    "## Criteria for Uniqueness \n",
    "In order to make your group's model unique from the other groups, and from the existing model, here are the **two requirements** you and your group must meet: \n",
    "\n",
    "**Choose a specific disease to model.**\n",
    "There are a number of diseases and viruses that are out there, some more interesting than others. The disease that you choose impacts the rate at which a person becomes infected, how long they are infected for, and how easily they spread the disease to others in the population. In order to pick a disease, you may want to read more about something called the [basic reproduction number](https://en.wikipedia.org/wiki/Basic_reproduction_number) and see how it relates to the rates involved in your set of ODEs. \n",
    "\n",
    "**Add a compartment.**\n",
    "Your model needs to contain a minimum of three compartments and a maximum of five. At least one of the compartments needs to be different from the existing S, I, and R. On the Wikipedia page for the [SIR model](https://en.wikipedia.org/wiki/Compartmental_models_in_epidemiology#The_SIR_model) there are examples of variations which you can explore to get ideas from. No matter what the compartment the group adds is, you all must provide justifications and reasoning for why it makes sense to add the compartment with your chosen disease. For example, you would not want to use the same model for measles and the flu since those diseases do not behave in the same ways. "
   ]
  },
  {
   "cell_type": "markdown",
   "metadata": {},
   "source": [
    "# Construct a Set of ODEs\n",
    "\n",
    "Now that you have a model that visualizes your ideas, write out the set of ODEs that describes what is happening in your compartmental model. Take a picture of the compartments, and the set of ODEs, and embed the image in the cell below. You can also type out the set of ODEs in the cell if you like using markdown syntax. "
   ]
  },
  {
   "cell_type": "markdown",
   "metadata": {},
   "source": [
    "*Image Goes here*"
   ]
  },
  {
   "cell_type": "markdown",
   "metadata": {},
   "source": [
    "**Before you move on** be sure to discuss your group's model with an instructor. Make sure that you address each of these questions and answer them in the space provided.\n",
    "\n",
    "- What disease are you modelling? Why? \n",
    "wuhan novel coronavirus, new disease\n",
    "\n",
    "- What compartment are you adding to the SIR model to make it unique? Why?\n",
    "There are superspreaded carriers, which can infect more than 100 persons.\n",
    "\n",
    "- What assumptions did you make about the real world in order to construct this model?\n",
    "One carrier will infect two or three persons.\n",
    "\n",
    "- Are the assumptions that you made logical? How are you deciding this?\n",
    "The assumption is the infected amount each time."
   ]
  },
  {
   "cell_type": "markdown",
   "metadata": {},
   "source": [
    "# Numerically Integrate Using Euler's Method"
   ]
  },
  {
   "cell_type": "markdown",
   "metadata": {},
   "source": [
    "Work with your group to numerically integrate the set of ODEs you constructed above using [Euler's method](https://en.wikipedia.org/wiki/Euler_method). Remember, the purpose of this method is to model the behavior of some unknown functions that are described by the ODEs -- this means that you should graph your solutions. Additionally, you will need to choose reasonable values for your initial conditions and rates. You may find it helpful to draft a pseudo code first that organizes the group's plan of attack. "
   ]
  },
  {
   "cell_type": "code",
   "execution_count": null,
   "metadata": {},
   "outputs": [],
   "source": [
    "# put your code here and make sure to visualize your results!\n"
   ]
  },
  {
   "cell_type": "markdown",
   "metadata": {},
   "source": [
    "-----\n",
    "### Congratulations, we're done!\n",
    "\n",
    "Now, you just need to submit this assignment by uploading it to the course <a href=\"https://d2l.msu.edu/\">Desire2Learn</a> web page for today's dropbox (Don't forget to add your name in the first cell)."
   ]
  },
  {
   "cell_type": "markdown",
   "metadata": {},
   "source": [
    "&#169; Copyright 2019,  Michigan State University Board of Trustees"
   ]
  }
 ],
 "metadata": {
  "kernelspec": {
   "display_name": "Python 3",
   "language": "python",
   "name": "python3"
  },
  "language_info": {
   "codemirror_mode": {
    "name": "ipython",
    "version": 3
   },
   "file_extension": ".py",
   "mimetype": "text/x-python",
   "name": "python",
   "nbconvert_exporter": "python",
   "pygments_lexer": "ipython3",
   "version": "3.7.3"
  }
 },
 "nbformat": 4,
 "nbformat_minor": 4
}
