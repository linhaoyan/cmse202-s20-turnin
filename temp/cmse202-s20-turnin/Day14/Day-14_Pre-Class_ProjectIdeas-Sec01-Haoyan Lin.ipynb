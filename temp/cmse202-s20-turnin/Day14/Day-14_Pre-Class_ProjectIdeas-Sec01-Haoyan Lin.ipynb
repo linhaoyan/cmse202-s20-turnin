{
 "cells": [
  {
   "cell_type": "markdown",
   "metadata": {},
   "source": [
    "## <p style=\"text-align: right;\"> &#9989; Haoyan Lin</p>"
   ]
  },
  {
   "cell_type": "markdown",
   "metadata": {},
   "source": [
    "# Day 14 Pre-Class Assignment: Reviewing Project Ideas"
   ]
  },
  {
   "cell_type": "markdown",
   "metadata": {},
   "source": [
    "In this pre-class assignment we are going to explore your project ideas for class.  The ideas are pulled from the project brainstorming you did previously. The instructional staff did their best to interpret the concept of your ideas based on what you submitted to the Google survey. In some cases we had to try to put vagues thoughts into concrete categories and we may have misconstrued the original intent -- sorry if your idea was mangled!\n",
    "\n",
    "Please think about what would make a good and interesting project and complete the following:\n",
    "\n",
    "**&#9989; Do This:** \n",
    "\n",
    "1. Read though the following project ideas and put notes in the `comments` slot provided on any that you find interesting.\n",
    "2. Having read through them all, write dow your top 3 in the list below using the number and name. Consider the following factors as you are investigating for your top 3.\n",
    "    * Is the project something you are interested in?\n",
    "    * How hard will the project be for a group to complete? \n",
    "    * Can you find any python libraries or datasets that would help with the project?\n",
    "    * Is this just a toy project or is the project scientifically motivated. I.e. what broad scientific questions would this project be able to answer?\n",
    "3. Having selected three, add some details in your `Top Three List` with information like:\n",
    "    * Any links to new information or datasets.\n",
    "    * Scientific questions that this project would be able to explore.\n",
    "    * Computational methods you might use for the project.\n",
    "    * Additional thoughts or ideas you want to tell the instructors. \n",
    "\n",
    "**Note:** You are welcome to also combine two or more project ideas into one bigger project. Or you can come up with a new project idea.  Reference the projects based on their project numbers. Do not change the numbers. "
   ]
  },
  {
   "cell_type": "markdown",
   "metadata": {},
   "source": [
    "## Top Three List (with some details)\n",
    "\n",
    "6. Crime analysis/prediction.\n",
    "\n",
    "comments: I am interested in this prediction of US crimes, we can predictthe trend of several criminal categories over decades. \n",
    "\n",
    "4. Stock market prediction, factors. Frankly overdone so what could be done that is original?\n",
    "\n",
    "comments: I am curious the changng of stock in market. So, I want to use data to explore more details about it.\n",
    "\n",
    "11. Modeling drug abuse.\n",
    "\n",
    "comments: Durg abuse issues always exist during our daily lives, so we can do analysis about this issue for reminding students about why we must to stay away drugs."
   ]
  },
  {
   "cell_type": "markdown",
   "metadata": {},
   "source": [
    "---\n",
    "\n",
    "# Project Ideas From Brainstorming:"
   ]
  },
  {
   "cell_type": "markdown",
   "metadata": {},
   "source": [
    "## List of Project Ideas\n",
    "\n",
    "\n",
    "1. Spread of disease and the effect of intervention (vaccinations, antibody effectiveness, weather, geography, etc.) What is original?\n",
    "\n",
    "comments:\n",
    "\n",
    "\n",
    "2. Predicing changes in voters behavior over time as advertising changes.\n",
    "\n",
    "comments:\n",
    "\n",
    "\n",
    "3. Sales/price analysis of a commodity.\n",
    "\n",
    "comments:\n",
    "\n",
    "\n",
    "4. Stock market prediction, factors. Frankly overdone so what could be done that is original?\n",
    "\n",
    "comments: I am curious the changng of stock in market. So, I want to use data to explore more details about it.\n",
    "\n",
    "\n",
    "5. Image classfication of fungi/bacteria/faces.\n",
    "\n",
    "comments:\n",
    "\n",
    "\n",
    "6. Crime analysis/prediction.\n",
    "\n",
    "comments: I am interested in this prediction of US crimes, we can predictthe trend of several criminal categories over decades. \n",
    "\n",
    "\n",
    "7. Modeling how carbon emission affects the air quality.\n",
    "\n",
    "comments:\n",
    "\n",
    "\n",
    "8. Modeling natural selection/evolution.\n",
    "\n",
    "comments:\n",
    "\n",
    "\n",
    "9. Weather prediction in a region.\n",
    "\n",
    "comments:\n",
    "\n",
    "\n",
    "10. Quantum mechanics modeling: simulating a particle in a box/wavefunction of different potentials.\n",
    "\n",
    "comments:\n",
    "\n",
    "\n",
    "11. Modeling drug abuse.\n",
    "\n",
    "comments: Durg abuse issues always exist during our daily lives, so we can do analysis about this issue for reminding students about why we must to stay away drugs.\n",
    "\n",
    "\n",
    "12. Objected-oriented programming card games.\n",
    "\n",
    "comments:\n",
    "\n",
    "\n",
    "13. Fraud detection in transaction.\n",
    "\n",
    "comments:\n",
    "\n",
    "\n",
    "14. Agent-based model to simulate particle interaction.\n",
    "\n",
    "comments:\n",
    "\n",
    "\n",
    "15. Electrical optimization.\n",
    "\n",
    "comments:\n",
    "\n",
    "\n",
    "16. Modeling performance of buildings in an earthquake.\n",
    "\n",
    "comments:\n",
    "\n",
    "\n",
    "17. Scraping wikipedia and studying article's readability.\n",
    "\n",
    "comments:\n",
    "\n",
    "\n",
    "18. Modeling how a blackhole tears stars and predict energy emitted.\n",
    "\n",
    "comments:\n",
    "\n",
    "\n",
    "19. Prediction of so called \"habitable zones\" for planet habitation using things like solar radiation, radiation in general, planet type, distance from sun, etc.)\n",
    "\n",
    "comments:\n",
    "\n",
    "\n",
    "20. Modeling the change of oil pressure vs engine RPM in MSU Formula Racing Team data log.\n",
    "\n",
    "comments:\n",
    "\n",
    "\n",
    "21. Simulating condensed matter nano materials.\n",
    "\n",
    "comments:"
   ]
  },
  {
   "cell_type": "markdown",
   "metadata": {},
   "source": [
    "------\n",
    "\n",
    "# New project ideas\n",
    "\n",
    "If you've come up with new project ideas since our brainstorming session, feel free to add them here. Make sure to include the same sort of information you put together for your \"top 3\" models from above. Make a note in assignment wrap-up survey if any of your new ideas are your new favorite idea."
   ]
  },
  {
   "cell_type": "markdown",
   "metadata": {},
   "source": [
    "## < New Idea >\n",
    "\n",
    "< New idea description >\n",
    "\n",
    "**Comments:**\n"
   ]
  },
  {
   "cell_type": "markdown",
   "metadata": {},
   "source": [
    "----\n",
    "# Assignment wrap-up\n",
    "\n",
    "Please fill out the form that appears when you run the code below.  **You must completely fill this out in order to receive credit for the assignment!**"
   ]
  },
  {
   "cell_type": "code",
   "execution_count": 1,
   "metadata": {},
   "outputs": [
    {
     "data": {
      "text/html": [
       "\n",
       "<iframe \n",
       "\tsrc=\"https://forms.gle/mno2Tds4bgdZBJ7E9\" \n",
       "\twidth=\"800px\" \n",
       "\theight=\"600px\" \n",
       "\tframeborder=\"0\" \n",
       "\tmarginheight=\"0\" \n",
       "\tmarginwidth=\"0\">\n",
       "\tLoading...\n",
       "</iframe>\n"
      ],
      "text/plain": [
       "<IPython.core.display.HTML object>"
      ]
     },
     "execution_count": 1,
     "metadata": {},
     "output_type": "execute_result"
    }
   ],
   "source": [
    "from IPython.display import HTML\n",
    "HTML(\n",
    "\"\"\"\n",
    "<iframe \n",
    "\tsrc=\"https://forms.gle/mno2Tds4bgdZBJ7E9\" \n",
    "\twidth=\"800px\" \n",
    "\theight=\"600px\" \n",
    "\tframeborder=\"0\" \n",
    "\tmarginheight=\"0\" \n",
    "\tmarginwidth=\"0\">\n",
    "\tLoading...\n",
    "</iframe>\n",
    "\"\"\"\n",
    ")"
   ]
  },
  {
   "cell_type": "markdown",
   "metadata": {},
   "source": [
    "---------\n",
    "### Congratulations, you're done with your pre-class assignment!\n",
    "\n",
    "Now, you just need to submit this assignment by uploading it to the course <a href=\"https://d2l.msu.edu/\">Desire2Learn</a> web page for today's submission folder (Don't forget to add your name in the first cell)."
   ]
  },
  {
   "cell_type": "markdown",
   "metadata": {},
   "source": [
    "&#169; Copyright 2018,  Michigan State University Board of Trustees"
   ]
  }
 ],
 "metadata": {
  "kernelspec": {
   "display_name": "Python 3",
   "language": "python",
   "name": "python3"
  },
  "language_info": {
   "codemirror_mode": {
    "name": "ipython",
    "version": 3
   },
   "file_extension": ".py",
   "mimetype": "text/x-python",
   "name": "python",
   "nbconvert_exporter": "python",
   "pygments_lexer": "ipython3",
   "version": "3.7.3"
  }
 },
 "nbformat": 4,
 "nbformat_minor": 4
}
