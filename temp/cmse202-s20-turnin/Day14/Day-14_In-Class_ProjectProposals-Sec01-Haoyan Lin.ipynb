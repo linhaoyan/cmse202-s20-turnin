{
 "cells": [
  {
   "cell_type": "markdown",
   "metadata": {},
   "source": [
    "### <p style=\"text-align: right;\"> &#9989; **Haoyan Lin** </p>\n",
    "#### <p style=\"text-align: right;\"> &#9989;  Larissa Ford, Thanh lai, Connor Kromp, Dongdong Li</p>"
   ]
  },
  {
   "cell_type": "markdown",
   "metadata": {},
   "source": [
    "# Day 14 In-Class Assignment: Reviewing Project Ideas"
   ]
  },
  {
   "cell_type": "markdown",
   "metadata": {},
   "source": [
    "### Agenda for today:\n",
    "\n",
    "1. Brainstorm project selection criteria\n",
    "1. Group discussion to determine selection critera\n",
    "1. Review project ideas and brainstorm possible new ideas\n",
    "1. Apply selection criteria to project ideas and finalize possible project list\n",
    "1. Dig into projects further"
   ]
  },
  {
   "cell_type": "markdown",
   "metadata": {},
   "source": [
    "# Defining criteria for selecting projects\n",
    "\n",
    "In order to make sure that each group has a good project idea to pursue for their semester project, we are going to try to define a set of selection criteria as a class. Basically, what elements should a good project idea have? If we can make sure that the projects ideas we've generated meet our selection criteria before we choose one of them, it is less likely that a group will run into significant issues with their project."
   ]
  },
  {
   "cell_type": "markdown",
   "metadata": {},
   "source": [
    "---\n",
    "# General Guidelines for Brainstorming process\n",
    "\n",
    "A useful approach to brainstorming is the following two-step process:\n",
    "\n",
    "#### Step 1: Generate ideas\n",
    "* Strive for quantity (don't criticize or set restictions on ideas)\n",
    "* Strive for variety\n",
    "\n",
    "#### Step 2: Reduce the list\n",
    "* Clarify vague ideas\n",
    "* Group related ideas\n",
    "* Remove obvious outliers\n",
    "* Discuss and choose the critical few"
   ]
  },
  {
   "cell_type": "markdown",
   "metadata": {},
   "source": [
    "---\n",
    "# 1. Generating ideas for project selection criteria\n",
    "\n",
    "In pairs, do \"**Step 1**\" from above. Generate possible criteria for selecting a project (\"Step 1\" from above). Try to identify criteria that are \"measurable,\" if possible. To think of this another way, what makes something a \"good\" idea for a project versus a \"bad\" idea? We'll do \"Step 2\" as a class.\n",
    "\n",
    "You'll have ~10-15 minutes to do this."
   ]
  },
  {
   "cell_type": "markdown",
   "metadata": {},
   "source": [
    "<font size=8 color=\"#009600\">&#9998;</font> \n",
    "1. time effecient\n",
    "2. accessible data\n",
    "3. non-trivial\n",
    "4. variability\n",
    "5. answering scientific or real-world questions\n",
    "6. morally ethical\n",
    "7. all inclusive\n",
    "8. visualization"
   ]
  },
  {
   "cell_type": "markdown",
   "metadata": {},
   "source": [
    "---\n",
    "# 2. Discussing and choosing selection criteria\n",
    "\n",
    "As a class, we will go through **Step 2**. We will try to:\n",
    "\n",
    "* Clarify vague ideas\n",
    "* Group related ideas\n",
    "* Remove obvious outliers\n",
    "* Discuss and choose the critical few\n",
    "\n",
    "The instructor will share a google document via Slack and create a record of the criteria there."
   ]
  },
  {
   "cell_type": "markdown",
   "metadata": {},
   "source": [
    "---\n",
    "# 3. Review project ideas\n",
    "\n",
    "In the list below are all of the ideas that you, as a class, came up with as possible project ideas. In your pre-class assignment, you spent sometime thinking about which ideas you were most interested in.\n",
    "\n",
    "For this part of the assignment, each table will be assigned a subset of the project ideas listed below. Then, in pairs, you will review that subset of ideas. Which ones do you think should either be kept or thrown out based on the selection criteria we came up with? You may want to think back to some of the thoughts you had in your pre-class assignment. You may also need to poke around online a bit to figure out if the project will meet the selection criteria. Record your thoughts in the \"comments\" section for the project ideas.\n",
    "\n",
    "If you aren't particularly familiar with a topic, feel free to see if someone else are your table is. If no one is, see if you can find a bit of information online about the topic.\n",
    "\n",
    "Keep in mind that if you think an idea should be thrown out, it doesn't mean it was a fundamentally bad idea, it just may not be a good choice for a semester project in this course. There are lot of great ideas that sometimes prove to be overly difficult once you dig a bit further. Or, sometimes it's hard to find something to pursue that hasn't already been done by someone else.\n",
    "\n",
    "After you do your review in pairs, we'll discuss all of these as a class.\n",
    "\n",
    "You'll have ~20 minutes to do this."
   ]
  },
  {
   "cell_type": "markdown",
   "metadata": {},
   "source": [
    "## List of Project Ideas\n",
    "\n",
    "\n",
    "1. Spread of disease and the effect of intervention (vaccinations, antibody effectiveness, weather, geography, etc.) What is original?\n",
    "\n",
    "comments:\n",
    "Repositories (Examples)\n",
    "https://github.com/datakind/PlantDiseaseSpread\n",
    "https://github.com/PradnyaChahande/DengAI-Predicting-Disease-Spread\n",
    "https://github.com/xithiox/disease\n",
    "https://github.com/healthsites/mRIIDS\n",
    "Articles (Useful starting point for spread of infectious disease mechanisms)\n",
    "https://www.sahealth.sa.gov.au/wps/wcm/connect/public+content/sa+health+internet/health+topics/health+conditions+prevention+and+treatment/infectious+diseases/ways+infectious+diseases+spread\n",
    "https://www.cdc.gov/disasters/disease/infectevac.html\n",
    "Data (Good sources to find data about infectious diseases- many contain demographic and location data) \n",
    "https://data.cdc.gov/\n",
    "https://www.who.int/healthinfo/global_burden_disease/estimates/en/index1.html\n",
    "http://ghdx.healthdata.org/gbd-2016/data-input-sources\n",
    "https://www.healthmap.org/en/\n",
    "https://promedmail.org/\n",
    "\n",
    "\n",
    "\n",
    "\n",
    "\n",
    "\n",
    "2. Predicing changes in voters behavior over time as advertising changes.\n",
    "\n",
    "comments:\n",
    "Articles:\n",
    "https://www.kellogg.northwestern.edu/faculty/spenkuch/research/advertising.pdf\n",
    "https://www.apa.org/monitor/2012/04/advertising\n",
    "https://www.icpsr.umich.edu/icpsrweb/instructors/setups/voting.jsp\n",
    "https://journalistsresource.org/studies/politics/ads-public-opinion/negative-political-ads-effects-voters-research-roundup/\n",
    "\n",
    "https://digitalcommons.iwu.edu/cgi/viewcontent.cgi?article=1193&context=respublica\n",
    "Data:\n",
    "https://www.census.gov/content/dam/Census/library/stories/2019/04/behind-2018-united-states-midterm-election-turnout-table-1.jpg\n",
    "https://www.presidency.ucsb.edu/statistics/data/voter-turnout-in-presidential-elections \n",
    "http://www.electproject.org/national-1789-present\n",
    "Repositories:\n",
    "https://github.com/saraswat/voters\n",
    "\n",
    "\n",
    "3. Sales/price analysis of a commodity.\n",
    "\n",
    "comments:\n",
    "Price over time for a commodity and include socioeconomic factors such as laws being passed that restricts the price and stuff i guess? GAS PRICES\n",
    "https://markets.businessinsider.com/commodities\n",
    "https://www.statista.com/statistics/916733/us-salt-prices-by-type/ \n",
    "https://www.imf.org/en/Research/commodity-prices\n",
    "https://en.wikipedia.org/wiki/Big_Mac_Index\n",
    "https://www.google.com/search?client=firefox-b-1-d&q=bitcoin \n",
    "https://www.wine-searcher.com/wine-prices \n",
    "https://markets.businessinsider.com/commodities/milk-price\n",
    "https://data.imf.org/?sk=471DDDF8-D8A7-499A-81BA-5B332C01F8B9 \n",
    "\n",
    "\n",
    "4. Stock market prediction, factors. Frankly overdone so what could be done that is original?\n",
    "\n",
    "comments:\n",
    "\n",
    "\n",
    "5. Image classfication of fungi/bacteria/faces.\n",
    "\n",
    "comments:\n",
    "\n",
    "\n",
    "6. Crime analysis/prediction.\n",
    "\n",
    "comments:\n",
    "\n",
    "\n",
    "7. Modeling how carbon emission affects the air quality.\n",
    "\n",
    "comments:\n",
    "\n",
    "\n",
    "8. Modeling natural selection/evolution.\n",
    "\n",
    "comments:\n",
    "\n",
    "\n",
    "9. Weather prediction in a region.\n",
    "\n",
    "comments:\n",
    "\n",
    "\n",
    "10. Quantum mechanics modeling: simulating a particle in a box/wavefunction of different potentials.\n",
    "\n",
    "comments:\n",
    "\n",
    "\n",
    "11. Modeling drug abuse.\n",
    "\n",
    "comments:\n",
    "\n",
    "\n",
    "12. Objected-oriented programming card games.\n",
    "\n",
    "comments:\n",
    "\n",
    "\n",
    "13. Fraud detection in transaction.\n",
    "\n",
    "comments:\n",
    "\n",
    "\n",
    "14. Agent-based model to simulate particle interaction.\n",
    "\n",
    "comments:\n",
    "\n",
    "\n",
    "15. Electrical optimization.\n",
    "\n",
    "comments:\n",
    "\n",
    "\n",
    "16. Modeling performance of buildings in an earthquake.\n",
    "\n",
    "comments:\n",
    "\n",
    "\n",
    "17. Scraping wikipedia and studying article's readability.\n",
    "\n",
    "comments:\n",
    "\n",
    "\n",
    "18. Modeling how a blackhole tears stars and predict energy emitted.\n",
    "\n",
    "comments:\n",
    "\n",
    "\n",
    "19. Prediction of so called \"habitable zones\" for planet habitation using things like solar radiation, radiation in general, planet type, distance from sun, etc.)\n",
    "\n",
    "comments:\n",
    "\n",
    "\n",
    "20. Modeling the change of oil pressure vs engine RPM in MSU Formula Racing Team data log.\n",
    "\n",
    "comments:\n",
    "\n",
    "\n",
    "21. Simulating condensed matter nano materials.\n",
    "\n",
    "comments:"
   ]
  },
  {
   "cell_type": "markdown",
   "metadata": {},
   "source": [
    "---\n",
    "\n",
    "# 4. Applying selection criteria and finalizing project list\n",
    "\n",
    "As a class, we'll discuss your thoughts as to which projects meet the selection criteria and we'll remove all of the projects that don't meet the criteria. We can also add on new project ideas that you might have come up with, assuming they also meet the criteria. This finalized list will be the one we use to choose projects from.\n",
    "\n",
    "The instructor will send out a Google Form with a list of all the final topics so that you can vote on which ones you're most interested in pursuing for a semester project. These votes will be used to form groups.\n",
    "\n",
    "**If you don't complete the forthcoming survey, you will be randomly assigned to a group!**"
   ]
  },
  {
   "cell_type": "markdown",
   "metadata": {},
   "source": [
    "---\n",
    "# 5. Digging into the projects\n",
    "\n",
    "If time allows, we're going to divide up the remaining projects between all of the pairs and each pair will be responsible for doing a bit of further digging to find information that would be useful to complete the projects they are assigned. Note, this does not mean you are responsible for doing that project you're research today.\n",
    "\n",
    "To ensure that today's work is beneficial to all groups, we'll compile our findings in another google document.\n",
    "https://docs.google.com/document/d/1BOsn7sTogo9J9IBajc7MvZpBE2vAAhuWG-1HYqsKd6Y/edit?usp=sharing"
   ]
  },
  {
   "cell_type": "markdown",
   "metadata": {},
   "source": [
    "----"
   ]
  },
  {
   "cell_type": "markdown",
   "metadata": {},
   "source": [
    "-----\n",
    "### Congratulations, we're done!\n",
    "\n",
    "Now, you just need to submit this assignment by uploading it to the course <a href=\"https://d2l.msu.edu/\">Desire2Learn</a> web page for today's submission folder (Don't forget to add your names in the first cell)."
   ]
  },
  {
   "cell_type": "markdown",
   "metadata": {},
   "source": [
    "&#169; Copyright 2018,  Michigan State University Board of Trustees"
   ]
  }
 ],
 "metadata": {
  "kernelspec": {
   "display_name": "Python 3",
   "language": "python",
   "name": "python3"
  },
  "language_info": {
   "codemirror_mode": {
    "name": "ipython",
    "version": 3
   },
   "file_extension": ".py",
   "mimetype": "text/x-python",
   "name": "python",
   "nbconvert_exporter": "python",
   "pygments_lexer": "ipython3",
   "version": "3.7.3"
  }
 },
 "nbformat": 4,
 "nbformat_minor": 4
}
