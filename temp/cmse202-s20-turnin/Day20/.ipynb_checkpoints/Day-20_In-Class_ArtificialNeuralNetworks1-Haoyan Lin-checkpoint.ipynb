{
 "cells": [
  {
   "cell_type": "markdown",
   "metadata": {},
   "source": [
    "### Haoyan Lin\n",
    "\n",
    "### INSTRUCTOR CONTENT -- REMOVE THIS IN STUDENT VERSION\n",
    "#### The goals/notes for this class are:\n",
    "\n",
    "* This assignment just involves review the take-away concepts from the PCA and making sure student understand all of the components of a neural network (e.g. input layer, hidden layer, outpuer layer, neurons, activation functions, etc)\n",
    "* Once you review the PCA content, you have project groups give a short update on their projects to the class. Any time that is left over becomes project work time."
   ]
  },
  {
   "cell_type": "markdown",
   "metadata": {},
   "source": [
    "# Day 20 In-Class: Intro to Artificial Neural Networks\n",
    "\n",
    "<img src=\"http://www.bogotobogo.com/python/scikit-learn/images/NeuralNetwork1/NN-with-components-w11-etc.png\" width=600px>\n",
    "\n",
    "### Agenda:\n",
    "\n",
    "1. Review pre-class assignment\n",
    "2. Present project updates\n",
    "3. Work on semester projects!"
   ]
  },
  {
   "cell_type": "markdown",
   "metadata": {},
   "source": [
    "----\n",
    "# 1. Review pre-class assignment\n",
    "\n",
    "Below is the solution to the pre-class assignment, we're going to talk through this to make sure we all understand what's happening."
   ]
  },
  {
   "cell_type": "code",
   "execution_count": 1,
   "metadata": {},
   "outputs": [
    {
     "name": "stdout",
     "output_type": "stream",
     "text": [
      "X_norm =\n",
      "[[0.3 0.5]\n",
      " [0.5 0.1]\n",
      " [1.  0.2]]\n",
      "y_norm =\n",
      "[[0.75]\n",
      " [0.83]\n",
      " [0.93]]\n",
      "Z2 =\n",
      "[[-1.02477694 -1.048178    0.3859301 ]\n",
      " [-0.43864726 -0.51883909  0.31402499]\n",
      " [-0.87729452 -1.03767817  0.62804998]]\n",
      "a2 =\n",
      "[[0.26409796 0.25957513 0.59530257]\n",
      " [0.39206335 0.37312373 0.57786741]\n",
      " [0.29373873 0.26159824 0.65204717]]\n",
      "Z3 =\n",
      "[[-0.24964257]\n",
      " [-0.21048732]\n",
      " [-0.27134351]]\n",
      "--------------\n",
      "How did we do?\n",
      "y_norm:\n",
      "[[0.75]\n",
      " [0.83]\n",
      " [0.93]]\n",
      "yHat:\n",
      "[[0.43791148]\n",
      " [0.4475716 ]\n",
      " [0.43257729]]\n"
     ]
    }
   ],
   "source": [
    "%matplotlib inline\n",
    "import matplotlib.pyplot as plt\n",
    "import numpy as np\n",
    "\n",
    "# input data (hours of sleep, hours of study)\n",
    "X = np.array([[3,5], [5,1], [10,2]])\n",
    "\n",
    "# normalized X\n",
    "X_norm = X / np.max(X)\n",
    "print(\"X_norm =\")\n",
    "print(X_norm)\n",
    "\n",
    "# output data (test score)\n",
    "y = np.array([[75], [83], [93]])\n",
    "\n",
    "# normalized y\n",
    "y_norm = y/100\n",
    "print(\"y_norm =\")\n",
    "print(y_norm)\n",
    "\n",
    "# Neural Network properties\n",
    "inputLayerSize = 2\n",
    "outputLayerSize = 1\n",
    "hiddenLayerSize = 3\n",
    "\n",
    "# Define synapse weights\n",
    "W1 = np.random.randn(inputLayerSize, hiddenLayerSize)\n",
    "W2 = np.random.randn(hiddenLayerSize, outputLayerSize)\n",
    "\n",
    "# Apply the first weights to inputs to get hidden layer activity\n",
    "Z2 = np.dot(X_norm, W1)\n",
    "print(\"Z2 =\")\n",
    "print(Z2)\n",
    "\n",
    "# Define our activation function\n",
    "def sigmoid(z):\n",
    "    #Apply sigmoid activation function to scalar, vector, or matrix\n",
    "    return 1/(1+np.exp(-z))\n",
    "\n",
    "# Apply the activation function to our activity levels\n",
    "a2 = sigmoid(Z2)\n",
    "print(\"a2 =\")\n",
    "print(a2)\n",
    "\n",
    "# Apply the second weights to the hidden layer\n",
    "Z3 = np.dot(a2, W2)\n",
    "print(\"Z3 =\")\n",
    "print(Z3)\n",
    "\n",
    "# Apply the activation function to produce prediction for yHat\n",
    "yHat = sigmoid(Z3)\n",
    "\n",
    "# Compare yhat to known y_norm\n",
    "print(\"--------------\")\n",
    "print(\"How did we do?\")\n",
    "print(\"y_norm:\")\n",
    "print(y_norm)\n",
    "print(\"yHat:\")\n",
    "print(yHat)"
   ]
  },
  {
   "cell_type": "markdown",
   "metadata": {},
   "source": [
    "---\n",
    "# 2. Present project updates\n",
    "\n",
    "Each group will have **~2 minutes** to update the class on where they are at with their projects. Make sure to pay attention in case you have questions or suggestions. You might also get some inspiration from another group!"
   ]
  },
  {
   "cell_type": "markdown",
   "metadata": {},
   "source": [
    "----\n",
    "# 3. Work on semester projects\n",
    "\n",
    "This is a chance to make some progress on your project with your group while the instructors are around to help. Make use of it!\n",
    "\n",
    "Before you leave, answer the following questions:\n",
    "\n",
    "1. Where are you at with your project?\n",
    "    - What have you accomplished? I finished the part of finding and import data and draw a draft plot.\n",
    "    - What do you still need to do? I still need to analyze my data and support statement.\n",
    "2. What do you think your biggest obstacle will be in completing your assignment?\n",
    "I cannot setting the label by using pyplot.\n",
    "3. When is your group going to meet to continue working on or finish the project?\n",
    "We will work on our own part first and meet for getting result and conclusion toghter."
   ]
  },
  {
   "cell_type": "markdown",
   "metadata": {},
   "source": [
    "1. \n",
    "1) I finished the part of finding and import data and draw a draft plot.\n",
    "2)  I still need to analyze my data and support statement.\n",
    "2. I cannot setting the label by using pyplot.\n",
    "3. We will work on our own part first and meet for getting result and conclusion toghter."
   ]
  },
  {
   "cell_type": "markdown",
   "metadata": {},
   "source": [
    "-----\n",
    "### Congratulations, you're done!\n",
    "\n",
    "Submit this notebook to D2L so that your instructor knows where you're at with your project!"
   ]
  },
  {
   "cell_type": "markdown",
   "metadata": {},
   "source": [
    "&#169; Copyright 2018,  Michigan State University Board of Trustees"
   ]
  }
 ],
 "metadata": {
  "kernelspec": {
   "display_name": "Python 3",
   "language": "python",
   "name": "python3"
  },
  "language_info": {
   "codemirror_mode": {
    "name": "ipython",
    "version": 3
   },
   "file_extension": ".py",
   "mimetype": "text/x-python",
   "name": "python",
   "nbconvert_exporter": "python",
   "pygments_lexer": "ipython3",
   "version": "3.7.3"
  }
 },
 "nbformat": 4,
 "nbformat_minor": 4
}
