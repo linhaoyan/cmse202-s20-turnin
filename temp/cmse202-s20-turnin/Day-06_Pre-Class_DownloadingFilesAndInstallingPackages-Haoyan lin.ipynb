{
 "cells": [
  {
   "cell_type": "markdown",
   "metadata": {
    "slideshow": {
     "slide_type": "-"
    }
   },
   "source": [
    "## <p style=\"text-align: right;\"> &#9989; Haoyan Lin</p>\n"
   ]
  },
  {
   "cell_type": "markdown",
   "metadata": {
    "slideshow": {
     "slide_type": "-"
    }
   },
   "source": [
    "# Day 6 Pre-class Assignment: Python Packages"
   ]
  },
  {
   "cell_type": "markdown",
   "metadata": {
    "slideshow": {
     "slide_type": "-"
    }
   },
   "source": [
    "## Goals for today's pre-class assignment\n",
    "\n",
    "</p>\n",
    "\n",
    "1. New Terminal Command (`curl`)\n",
    "1. Installing Third Party Packages"
   ]
  },
  {
   "cell_type": "markdown",
   "metadata": {},
   "source": [
    "## Assignment instructions\n",
    "**This assignment is due by 11:59 p.m. the day before class** and should be uploaded into the appropriate \"Pre-class assignments\" submission folder in the Desire2Learn website. "
   ]
  },
  {
   "cell_type": "markdown",
   "metadata": {},
   "source": [
    "----\n",
    "# 1. New Terminal Command (`curl`)\n",
    "\n",
    "In the in-class assignment we are going to use a tool called `curl` using the Command Line Interface.  Use the internet to answer the questions below:"
   ]
  },
  {
   "cell_type": "markdown",
   "metadata": {},
   "source": [
    "**Question 1:** What does the `curl` command do?"
   ]
  },
  {
   "cell_type": "markdown",
   "metadata": {},
   "source": [
    "<font size=8 color=\"#009600\">&#9998;</font> cURL is a command-line tool for getting or sending data including files using URL syntax. ... In the Windows platform, if a CA certificate file is not specified, cURL will look for a CA certificate file name “curl-ca-bundle.crt” in the following order: Directory where the cURL program is located."
   ]
  },
  {
   "cell_type": "markdown",
   "metadata": {},
   "source": [
    "**Question 2:** There is a file called `US_Unemployment_Oct2012.csv` that can be accessed using the following link:\n",
    "\n",
    "https://raw.githubusercontent.com/wrobstory/vincent/master/examples/data/US_Unemployment_Oct2012.csv\n",
    "\n",
    "How would you use `curl` to download this file to your computer? **Important**: By default, `curl` will simply output the contents of the file to your screen. There is a command flag that ensures that the remote file is actually saved as a file on your computer. You should figure out which flag this is and how it works."
   ]
  },
  {
   "cell_type": "markdown",
   "metadata": {},
   "source": [
    "<font size=8 color=\"#009600\">&#9998;</font> $ curl -O https://raw.githubusercontent.com/wrobstory/vincent/master/examples/data/US_Unemployment_Oct2012.csv"
   ]
  },
  {
   "cell_type": "markdown",
   "metadata": {},
   "source": [
    "**Question 3**: What other command line commands can be used to download files onto your computer from a remote location? There is another very common command out there besides `curl`, but your computer might not have it. Can you figure out what that command is?"
   ]
  },
  {
   "cell_type": "markdown",
   "metadata": {},
   "source": [
    "<font size=8 color=\"#009600\">&#9998;</font> Another command that I can use is \"wget\". The command is \"wget -O taglist.zip + website\"."
   ]
  },
  {
   "cell_type": "markdown",
   "metadata": {},
   "source": [
    "----\n",
    "# 2. Installing Third Party Packages\n",
    "\n",
    "How do we go about installing new third party packages that aren't already a part of our Python installation?\n",
    "\n",
    "If the package you want to use is available as a \"conda\" package or from the Python Package Index (PyPI), installation is generally pretty straight forward.\n",
    "\n",
    "Let's test out installing a package using `conda` and a package using `pip`, which installs packages from PyPI."
   ]
  },
  {
   "cell_type": "markdown",
   "metadata": {},
   "source": [
    "## Conda installation\n",
    "\n",
    "The anaconda distribution we are working with maintains its own package installation system called `conda`. When you install anaconda it also installs the `conda` package manager. A package manager allows you to:\n",
    "* install new python packages along with **all the required dependency packages**. This last point is very important as it can be difficult to know what other python packages you need for the package you are loading.\n",
    "* update packages you already have with new versions\n",
    "\n",
    "When you installed anaconda, you got a lot of packages already installed. You can look at [anaconda windows 64 packages](https://docs.anaconda.com/anaconda/packages/py3.7_win-64/) or [anaconda mac packages](https://docs.anaconda.com/anaconda/packages/py3.7_osx-64/) to see a list\n",
    "\n",
    "However, even anaconda doesn't provide every package. Take a look at [https://pypi.org/](https://pypi.org/), the Python Package Index (often called PyPi). There are many there that are not in the anaconda set that you downloaded. You can use `conda` to load a package you like as shown below"
   ]
  },
  {
   "cell_type": "markdown",
   "metadata": {},
   "source": [
    "### Prettytable\n",
    "\n",
    "Occasionally there are times when you're looking at simple datasets in Python and it would be handy to be able to manipulate and visualize the data in simple ASCII formats without dealing with all of the Pandas dataframe overhead. Or perhaps you need to output the a data table in an HTML format so that you can render the table on the web. To achieve these sorts of tasks, you can install a package called `prettytable` using `conda` like so:\n",
    "\n",
    "`conda install -c conda-forge prettytable`\n",
    "\n",
    "This uses conda to install the package by locating it on Conda-Forge, which is a community maintained set of conda packages. When you run the command, you'll see that conda finds the packages and also checks if it should update any other packages at the same time and will let you know everything it plans to do before you confirm that you want it to happen. Once you've installed the package, you should be able to import it. Some documentation for `prettytable` can be found here: [https://code.google.com/archive/p/prettytable/](https://code.google.com/archive/p/prettytable/)\n",
    "\n",
    "If you were able to get `prettytable` installed, test it out and make sure it's working by trying to run some of the examples from this tutorial page:\n",
    "\n",
    "[http://zetcode.com/python/prettytable/](http://zetcode.com/python/prettytable/)\n",
    "\n",
    "**Important note:** If you're trying to do this on JupyterHub, rather than on your personal computer, you will get a error that you don't have permissions to install new packages. There are ways to work around this, but we don't address this for now. If this applies to you, please include a note that you're using JupyterHub in your end-of-assignment survey and do not worry about getting this working for now."
   ]
  },
  {
   "cell_type": "code",
   "execution_count": 5,
   "metadata": {},
   "outputs": [
    {
     "ename": "SyntaxError",
     "evalue": "invalid syntax (<ipython-input-5-658b9492360f>, line 4)",
     "output_type": "error",
     "traceback": [
      "\u001b[0;36m  File \u001b[0;32m\"<ipython-input-5-658b9492360f>\"\u001b[0;36m, line \u001b[0;32m4\u001b[0m\n\u001b[0;31m    conda install -c conda-forge prettytable\u001b[0m\n\u001b[0m                ^\u001b[0m\n\u001b[0;31mSyntaxError\u001b[0m\u001b[0;31m:\u001b[0m invalid syntax\n"
     ]
    }
   ],
   "source": [
    "# Put your prettytable testing code here\n",
    "#!/usr/bin/python3\n",
    "\n",
    "conda install -c conda-forge prettytable"
   ]
  },
  {
   "cell_type": "markdown",
   "metadata": {},
   "source": [
    "## Pip installation\n",
    "\n",
    "The more general Python package manager is called `pip`. It works for any Python install, not just an anaconda install. Generally speaking, if you can use `conda` then you should, but it is worth looking at the more general `pip` which is available anywhere\n",
    "\n",
    "### cmocean\n",
    "\n",
    "There is a great package called [`cmocean`](http://matplotlib.org/cmocean/) that contains several colormaps that are commonly using for plotting oceanography data. One of the awesome things about the colormaps is that they are designed to be color-blind friendly, meaning that even if you're colorblind you can still extract information from the colormap.\n",
    "\n",
    "Try installing the package by doing the following on the command line:\n",
    "\n",
    "`pip install \"cmocean[plots]\"`\n",
    "    \n",
    "This not only installs the main cmocean module, but also installs the \"plots\" submodule, which is necessary to get some of the examples from the cmocean documentation page to work. When you run the command, you'll see that pip finds the packages and also checks if it should install or update any other packages at the same time. Once you've installed the package, you should be able to import it. Test it out in this notebook! Try making a plot using one of the new colormaps you have available. **You also have to include `import cmocean.plots` if you try to run any of the examples that use `cmocean.plots`.**\n",
    "\n",
    "**Important note:** If you're doing this on JupyterHub, you'll need to modify the command a bit in order to make sure you don't run into permission issues with the installation process. If you're not install pip packaged on your local machine, you need to use the `--user` flag, like so:\n",
    "\n",
    "`pip install --user \"cmocean[plots]\"`"
   ]
  },
  {
   "cell_type": "code",
   "execution_count": null,
   "metadata": {},
   "outputs": [],
   "source": [
    "# Test out importing cmocean here.\n",
    "# If you can, see if you can make a plot using one of the new colormaps"
   ]
  },
  {
   "cell_type": "markdown",
   "metadata": {},
   "source": [
    "----\n",
    "# Assignment Wrap-up\n",
    "\n",
    "Please fill out the form that appears when you run the code below.  **You must completely fill this out in order to receive credit for the assignment!**"
   ]
  },
  {
   "cell_type": "code",
   "execution_count": 6,
   "metadata": {},
   "outputs": [
    {
     "data": {
      "text/html": [
       "\n",
       "<iframe \n",
       "\tsrc=\"https://cmse.msu.edu/cmse202-pc-survey\" \n",
       "\twidth=\"800px\" \n",
       "\theight=\"600px\" \n",
       "\tframeborder=\"0\" \n",
       "\tmarginheight=\"0\" \n",
       "\tmarginwidth=\"0\">\n",
       "\tLoading...\n",
       "</iframe>\n"
      ],
      "text/plain": [
       "<IPython.core.display.HTML object>"
      ]
     },
     "execution_count": 6,
     "metadata": {},
     "output_type": "execute_result"
    }
   ],
   "source": [
    "from IPython.display import HTML\n",
    "HTML(\n",
    "\"\"\"\n",
    "<iframe \n",
    "\tsrc=\"https://cmse.msu.edu/cmse202-pc-survey\" \n",
    "\twidth=\"800px\" \n",
    "\theight=\"600px\" \n",
    "\tframeborder=\"0\" \n",
    "\tmarginheight=\"0\" \n",
    "\tmarginwidth=\"0\">\n",
    "\tLoading...\n",
    "</iframe>\n",
    "\"\"\"\n",
    ")"
   ]
  },
  {
   "cell_type": "markdown",
   "metadata": {},
   "source": [
    "---------\n",
    "### Congratulations, you're done with your pre-class assignment!\n",
    "\n",
    "Now, you just need to submit this assignment by uploading it to the course <a href=\"https://d2l.msu.edu/\">Desire2Learn</a> web page for this assignment's dropbox (Don't forget to add your names in the first cell)."
   ]
  },
  {
   "cell_type": "markdown",
   "metadata": {},
   "source": [
    "&#169; Copyright 2018,  Michigan State University Board of Trustees"
   ]
  }
 ],
 "metadata": {
  "anaconda-cloud": {},
  "kernelspec": {
   "display_name": "Python 3",
   "language": "python",
   "name": "python3"
  },
  "language_info": {
   "codemirror_mode": {
    "name": "ipython",
    "version": 3
   },
   "file_extension": ".py",
   "mimetype": "text/x-python",
   "name": "python",
   "nbconvert_exporter": "python",
   "pygments_lexer": "ipython3",
   "version": "3.7.3"
  }
 },
 "nbformat": 4,
 "nbformat_minor": 4
}
